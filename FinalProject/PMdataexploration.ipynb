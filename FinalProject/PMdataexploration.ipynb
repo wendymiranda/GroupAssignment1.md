{
 "cells": [
  {
   "cell_type": "code",
   "execution_count": 67,
   "metadata": {},
   "outputs": [],
   "source": [
    "#importing libraries we need \n",
    "import pandas as pd\n",
    "import geopandas as gpd"
   ]
  },
  {
   "cell_type": "code",
   "execution_count": 68,
   "metadata": {},
   "outputs": [
    {
     "data": {
      "text/html": [
       "<div>\n",
       "<style scoped>\n",
       "    .dataframe tbody tr th:only-of-type {\n",
       "        vertical-align: middle;\n",
       "    }\n",
       "\n",
       "    .dataframe tbody tr th {\n",
       "        vertical-align: top;\n",
       "    }\n",
       "\n",
       "    .dataframe thead th {\n",
       "        text-align: right;\n",
       "    }\n",
       "</style>\n",
       "<table border=\"1\" class=\"dataframe\">\n",
       "  <thead>\n",
       "    <tr style=\"text-align: right;\">\n",
       "      <th></th>\n",
       "      <th>CensusTract</th>\n",
       "      <th>TotalPopulation</th>\n",
       "      <th>CaliforniaCounty</th>\n",
       "      <th>ZIP</th>\n",
       "      <th>NearbyCity_(to help approximate location only)</th>\n",
       "      <th>Longitude</th>\n",
       "      <th>Latitude</th>\n",
       "      <th>CES3.0_Score</th>\n",
       "      <th>CES3.0_pctl</th>\n",
       "      <th>CES3.0_pctl_range</th>\n",
       "      <th>...</th>\n",
       "      <th>LinguisticIsolation_pctl</th>\n",
       "      <th>Poverty</th>\n",
       "      <th>Poverty_pctl</th>\n",
       "      <th>Unemployment</th>\n",
       "      <th>Unemployment_pctl</th>\n",
       "      <th>HousingBurden</th>\n",
       "      <th>HousingBurden_pctl</th>\n",
       "      <th>PopChar</th>\n",
       "      <th>PopChar_Score</th>\n",
       "      <th>PopChar_pctl</th>\n",
       "    </tr>\n",
       "  </thead>\n",
       "  <tbody>\n",
       "    <tr>\n",
       "      <th>5508</th>\n",
       "      <td>6033000600</td>\n",
       "      <td>3957</td>\n",
       "      <td>Lake</td>\n",
       "      <td>95423</td>\n",
       "      <td>Clearlake Oaks</td>\n",
       "      <td>-122.575206</td>\n",
       "      <td>39.081678</td>\n",
       "      <td>17.06</td>\n",
       "      <td>30.53</td>\n",
       "      <td>30-35%</td>\n",
       "      <td>...</td>\n",
       "      <td>0.35</td>\n",
       "      <td>54.5</td>\n",
       "      <td>78.52</td>\n",
       "      <td>16.6</td>\n",
       "      <td>89.26</td>\n",
       "      <td>27.6</td>\n",
       "      <td>83.12</td>\n",
       "      <td>55.47</td>\n",
       "      <td>5.75</td>\n",
       "      <td>58.28</td>\n",
       "    </tr>\n",
       "  </tbody>\n",
       "</table>\n",
       "<p>1 rows × 57 columns</p>\n",
       "</div>"
      ],
      "text/plain": [
       "      CensusTract  TotalPopulation CaliforniaCounty    ZIP  \\\n",
       "5508   6033000600             3957            Lake   95423   \n",
       "\n",
       "     NearbyCity_(to help approximate location only)   Longitude   Latitude  \\\n",
       "5508                                 Clearlake Oaks -122.575206  39.081678   \n",
       "\n",
       "      CES3.0_Score  CES3.0_pctl CES3.0_pctl_range  ...  \\\n",
       "5508         17.06        30.53            30-35%  ...   \n",
       "\n",
       "     LinguisticIsolation_pctl  Poverty  Poverty_pctl  Unemployment  \\\n",
       "5508                     0.35     54.5         78.52          16.6   \n",
       "\n",
       "      Unemployment_pctl  HousingBurden  HousingBurden_pctl  PopChar  \\\n",
       "5508              89.26           27.6               83.12    55.47   \n",
       "\n",
       "      PopChar_Score  PopChar_pctl  \n",
       "5508           5.75         58.28  \n",
       "\n",
       "[1 rows x 57 columns]"
      ]
     },
     "execution_count": 68,
     "metadata": {},
     "output_type": "execute_result"
    }
   ],
   "source": [
    "#importing CalEnviroScreen 3.0 data\n",
    "ces = pd.read_csv('Data/CES/ces3results.csv')\n",
    "ces.sample()"
   ]
  },
  {
   "cell_type": "code",
   "execution_count": 69,
   "metadata": {},
   "outputs": [
    {
     "data": {
      "text/html": [
       "<div>\n",
       "<style scoped>\n",
       "    .dataframe tbody tr th:only-of-type {\n",
       "        vertical-align: middle;\n",
       "    }\n",
       "\n",
       "    .dataframe tbody tr th {\n",
       "        vertical-align: top;\n",
       "    }\n",
       "\n",
       "    .dataframe thead th {\n",
       "        text-align: right;\n",
       "    }\n",
       "</style>\n",
       "<table border=\"1\" class=\"dataframe\">\n",
       "  <thead>\n",
       "    <tr style=\"text-align: right;\">\n",
       "      <th></th>\n",
       "      <th>CensusTract</th>\n",
       "      <th>TotalPopulation</th>\n",
       "      <th>CaliforniaCounty</th>\n",
       "      <th>ZIP</th>\n",
       "      <th>NearbyCity_(to help approximate location only)</th>\n",
       "      <th>Longitude</th>\n",
       "      <th>Latitude</th>\n",
       "      <th>CES3.0_Score</th>\n",
       "      <th>CES3.0_pctl</th>\n",
       "      <th>CES3.0_pctl_range</th>\n",
       "      <th>...</th>\n",
       "      <th>LinguisticIsolation_pctl</th>\n",
       "      <th>Poverty</th>\n",
       "      <th>Poverty_pctl</th>\n",
       "      <th>Unemployment</th>\n",
       "      <th>Unemployment_pctl</th>\n",
       "      <th>HousingBurden</th>\n",
       "      <th>HousingBurden_pctl</th>\n",
       "      <th>PopChar</th>\n",
       "      <th>PopChar_Score</th>\n",
       "      <th>PopChar_pctl</th>\n",
       "    </tr>\n",
       "  </thead>\n",
       "  <tbody>\n",
       "    <tr>\n",
       "      <th>1377</th>\n",
       "      <td>06107003200</td>\n",
       "      <td>6446</td>\n",
       "      <td>Tulare</td>\n",
       "      <td>93272</td>\n",
       "      <td>Tipton</td>\n",
       "      <td>-119.336888</td>\n",
       "      <td>36.056592</td>\n",
       "      <td>44.87</td>\n",
       "      <td>82.63</td>\n",
       "      <td>80-85%</td>\n",
       "      <td>...</td>\n",
       "      <td>95.08</td>\n",
       "      <td>79.2</td>\n",
       "      <td>98.06</td>\n",
       "      <td>12.4</td>\n",
       "      <td>72.43</td>\n",
       "      <td>10.3</td>\n",
       "      <td>13.59</td>\n",
       "      <td>65.44</td>\n",
       "      <td>6.79</td>\n",
       "      <td>73.24</td>\n",
       "    </tr>\n",
       "  </tbody>\n",
       "</table>\n",
       "<p>1 rows × 57 columns</p>\n",
       "</div>"
      ],
      "text/plain": [
       "      CensusTract  TotalPopulation CaliforniaCounty    ZIP  \\\n",
       "1377  06107003200             6446          Tulare   93272   \n",
       "\n",
       "     NearbyCity_(to help approximate location only)   Longitude   Latitude  \\\n",
       "1377                                         Tipton -119.336888  36.056592   \n",
       "\n",
       "      CES3.0_Score  CES3.0_pctl CES3.0_pctl_range  ...  \\\n",
       "1377         44.87        82.63            80-85%  ...   \n",
       "\n",
       "     LinguisticIsolation_pctl  Poverty  Poverty_pctl  Unemployment  \\\n",
       "1377                    95.08     79.2         98.06          12.4   \n",
       "\n",
       "      Unemployment_pctl  HousingBurden  HousingBurden_pctl  PopChar  \\\n",
       "1377              72.43           10.3               13.59    65.44   \n",
       "\n",
       "      PopChar_Score  PopChar_pctl  \n",
       "1377           6.79         73.24  \n",
       "\n",
       "[1 rows x 57 columns]"
      ]
     },
     "execution_count": 69,
     "metadata": {},
     "output_type": "execute_result"
    }
   ],
   "source": [
    "#adding zeros to census tract\n",
    "ces = pd.read_csv(\n",
    "        'Data/CES/ces3results.csv',\n",
    "        dtype={\n",
    "            'CensusTract':str\n",
    "        }\n",
    ")\n",
    "ces.sample()"
   ]
  },
  {
   "cell_type": "code",
   "execution_count": 70,
   "metadata": {},
   "outputs": [
    {
     "data": {
      "text/html": [
       "<div>\n",
       "<style scoped>\n",
       "    .dataframe tbody tr th:only-of-type {\n",
       "        vertical-align: middle;\n",
       "    }\n",
       "\n",
       "    .dataframe tbody tr th {\n",
       "        vertical-align: top;\n",
       "    }\n",
       "\n",
       "    .dataframe thead th {\n",
       "        text-align: right;\n",
       "    }\n",
       "</style>\n",
       "<table border=\"1\" class=\"dataframe\">\n",
       "  <thead>\n",
       "    <tr style=\"text-align: right;\">\n",
       "      <th></th>\n",
       "      <th>CensusTract</th>\n",
       "      <th>TotalPopulation</th>\n",
       "      <th>CaliforniaCounty</th>\n",
       "      <th>ZIP</th>\n",
       "      <th>NearbyCity_(to help approximate location only)</th>\n",
       "      <th>Longitude</th>\n",
       "      <th>Latitude</th>\n",
       "      <th>CES3.0_Score</th>\n",
       "      <th>CES3.0_pctl</th>\n",
       "      <th>CES3.0_pctl_range</th>\n",
       "      <th>...</th>\n",
       "      <th>LinguisticIsolation_pctl</th>\n",
       "      <th>Poverty</th>\n",
       "      <th>Poverty_pctl</th>\n",
       "      <th>Unemployment</th>\n",
       "      <th>Unemployment_pctl</th>\n",
       "      <th>HousingBurden</th>\n",
       "      <th>HousingBurden_pctl</th>\n",
       "      <th>PopChar</th>\n",
       "      <th>PopChar_Score</th>\n",
       "      <th>PopChar_pctl</th>\n",
       "    </tr>\n",
       "  </thead>\n",
       "  <tbody>\n",
       "    <tr>\n",
       "      <th>472</th>\n",
       "      <td>06037434004</td>\n",
       "      <td>2796</td>\n",
       "      <td>Los Angeles</td>\n",
       "      <td>91733</td>\n",
       "      <td>South El Monte</td>\n",
       "      <td>-118.03219</td>\n",
       "      <td>34.04022</td>\n",
       "      <td>56.09</td>\n",
       "      <td>94.05</td>\n",
       "      <td>90-95%</td>\n",
       "      <td>...</td>\n",
       "      <td>86.72</td>\n",
       "      <td>61.3</td>\n",
       "      <td>85.57</td>\n",
       "      <td>5.0</td>\n",
       "      <td>12.69</td>\n",
       "      <td>5.9</td>\n",
       "      <td>2.63</td>\n",
       "      <td>60.87</td>\n",
       "      <td>6.31</td>\n",
       "      <td>66.46</td>\n",
       "    </tr>\n",
       "  </tbody>\n",
       "</table>\n",
       "<p>1 rows × 57 columns</p>\n",
       "</div>"
      ],
      "text/plain": [
       "     CensusTract  TotalPopulation CaliforniaCounty    ZIP  \\\n",
       "472  06037434004             2796      Los Angeles  91733   \n",
       "\n",
       "    NearbyCity_(to help approximate location only)  Longitude  Latitude  \\\n",
       "472                                 South El Monte -118.03219  34.04022   \n",
       "\n",
       "     CES3.0_Score  CES3.0_pctl CES3.0_pctl_range  ...  \\\n",
       "472         56.09        94.05            90-95%  ...   \n",
       "\n",
       "    LinguisticIsolation_pctl  Poverty  Poverty_pctl  Unemployment  \\\n",
       "472                    86.72     61.3         85.57           5.0   \n",
       "\n",
       "     Unemployment_pctl  HousingBurden  HousingBurden_pctl  PopChar  \\\n",
       "472              12.69            5.9                2.63    60.87   \n",
       "\n",
       "     PopChar_Score  PopChar_pctl  \n",
       "472           6.31         66.46  \n",
       "\n",
       "[1 rows x 57 columns]"
      ]
     },
     "execution_count": 70,
     "metadata": {},
     "output_type": "execute_result"
    }
   ],
   "source": [
    "#narrowing it down to LA county\n",
    "ces = ces.query(\"CaliforniaCounty=='Los Angeles'\")\n",
    "ces.sample()"
   ]
  },
  {
   "cell_type": "code",
   "execution_count": 71,
   "metadata": {},
   "outputs": [
    {
     "data": {
      "text/html": [
       "<div>\n",
       "<style scoped>\n",
       "    .dataframe tbody tr th:only-of-type {\n",
       "        vertical-align: middle;\n",
       "    }\n",
       "\n",
       "    .dataframe tbody tr th {\n",
       "        vertical-align: top;\n",
       "    }\n",
       "\n",
       "    .dataframe thead th {\n",
       "        text-align: right;\n",
       "    }\n",
       "</style>\n",
       "<table border=\"1\" class=\"dataframe\">\n",
       "  <thead>\n",
       "    <tr style=\"text-align: right;\">\n",
       "      <th></th>\n",
       "      <th>censustract</th>\n",
       "      <th>totalpop</th>\n",
       "      <th>lon</th>\n",
       "      <th>lat</th>\n",
       "      <th>pm25</th>\n",
       "      <th>pm25_pctl</th>\n",
       "      <th>poverty</th>\n",
       "    </tr>\n",
       "  </thead>\n",
       "  <tbody>\n",
       "    <tr>\n",
       "      <th>1853</th>\n",
       "      <td>06037277400</td>\n",
       "      <td>1533</td>\n",
       "      <td>-118.374349</td>\n",
       "      <td>33.949035</td>\n",
       "      <td>12.05</td>\n",
       "      <td>81.66</td>\n",
       "      <td>46.7</td>\n",
       "    </tr>\n",
       "  </tbody>\n",
       "</table>\n",
       "</div>"
      ],
      "text/plain": [
       "      censustract  totalpop         lon        lat   pm25  pm25_pctl  poverty\n",
       "1853  06037277400      1533 -118.374349  33.949035  12.05      81.66     46.7"
      ]
     },
     "execution_count": 71,
     "metadata": {},
     "output_type": "execute_result"
    }
   ],
   "source": [
    "#cleaning up data\n",
    "ces = ces[['CensusTract','TotalPopulation','Longitude','Latitude','PM2.5','PM2.5_Pctl','Poverty']]\n",
    "ces.columns = ['censustract','totalpop','lon','lat','pm25','pm25_pctl','poverty']\n",
    "ces.sample()"
   ]
  },
  {
   "cell_type": "code",
   "execution_count": 72,
   "metadata": {},
   "outputs": [
    {
     "data": {
      "text/html": [
       "<div>\n",
       "<style scoped>\n",
       "    .dataframe tbody tr th:only-of-type {\n",
       "        vertical-align: middle;\n",
       "    }\n",
       "\n",
       "    .dataframe tbody tr th {\n",
       "        vertical-align: top;\n",
       "    }\n",
       "\n",
       "    .dataframe thead th {\n",
       "        text-align: right;\n",
       "    }\n",
       "</style>\n",
       "<table border=\"1\" class=\"dataframe\">\n",
       "  <thead>\n",
       "    <tr style=\"text-align: right;\">\n",
       "      <th></th>\n",
       "      <th>geoid</th>\n",
       "      <th>name</th>\n",
       "      <th>B03002001</th>\n",
       "      <th>B03002001, Error</th>\n",
       "      <th>B03002002</th>\n",
       "      <th>B03002002, Error</th>\n",
       "      <th>B03002003</th>\n",
       "      <th>B03002003, Error</th>\n",
       "      <th>B03002004</th>\n",
       "      <th>B03002004, Error</th>\n",
       "      <th>...</th>\n",
       "      <th>B03002017, Error</th>\n",
       "      <th>B03002018</th>\n",
       "      <th>B03002018, Error</th>\n",
       "      <th>B03002019</th>\n",
       "      <th>B03002019, Error</th>\n",
       "      <th>B03002020</th>\n",
       "      <th>B03002020, Error</th>\n",
       "      <th>B03002021</th>\n",
       "      <th>B03002021, Error</th>\n",
       "      <th>geometry</th>\n",
       "    </tr>\n",
       "  </thead>\n",
       "  <tbody>\n",
       "    <tr>\n",
       "      <th>137</th>\n",
       "      <td>14000US06037119700</td>\n",
       "      <td>Census Tract 1197, Los Angeles, CA</td>\n",
       "      <td>5076.0</td>\n",
       "      <td>318.0</td>\n",
       "      <td>2639.0</td>\n",
       "      <td>346.0</td>\n",
       "      <td>1298.0</td>\n",
       "      <td>302.0</td>\n",
       "      <td>185.0</td>\n",
       "      <td>148.0</td>\n",
       "      <td>...</td>\n",
       "      <td>17.0</td>\n",
       "      <td>633.0</td>\n",
       "      <td>269.0</td>\n",
       "      <td>96.0</td>\n",
       "      <td>92.0</td>\n",
       "      <td>96.0</td>\n",
       "      <td>92.0</td>\n",
       "      <td>0.0</td>\n",
       "      <td>17.0</td>\n",
       "      <td>MULTIPOLYGON (((-118.43290 34.22653, -118.4320...</td>\n",
       "    </tr>\n",
       "  </tbody>\n",
       "</table>\n",
       "<p>1 rows × 45 columns</p>\n",
       "</div>"
      ],
      "text/plain": [
       "                  geoid                                name  B03002001  \\\n",
       "137  14000US06037119700  Census Tract 1197, Los Angeles, CA     5076.0   \n",
       "\n",
       "     B03002001, Error  B03002002  B03002002, Error  B03002003  \\\n",
       "137             318.0     2639.0             346.0     1298.0   \n",
       "\n",
       "     B03002003, Error  B03002004  B03002004, Error  ...  B03002017, Error  \\\n",
       "137             302.0      185.0             148.0  ...              17.0   \n",
       "\n",
       "     B03002018  B03002018, Error  B03002019  B03002019, Error  B03002020  \\\n",
       "137      633.0             269.0       96.0              92.0       96.0   \n",
       "\n",
       "     B03002020, Error  B03002021  B03002021, Error  \\\n",
       "137              92.0        0.0              17.0   \n",
       "\n",
       "                                              geometry  \n",
       "137  MULTIPOLYGON (((-118.43290 34.22653, -118.4320...  \n",
       "\n",
       "[1 rows x 45 columns]"
      ]
     },
     "execution_count": 72,
     "metadata": {},
     "output_type": "execute_result"
    }
   ],
   "source": [
    "#adding census data to get just LA city census tracts\n",
    "race = gpd.read_file('Data/census/cr_race_tract.geojson')\n",
    "race.sample()"
   ]
  },
  {
   "cell_type": "code",
   "execution_count": 73,
   "metadata": {},
   "outputs": [
    {
     "data": {
      "text/html": [
       "<div>\n",
       "<style scoped>\n",
       "    .dataframe tbody tr th:only-of-type {\n",
       "        vertical-align: middle;\n",
       "    }\n",
       "\n",
       "    .dataframe tbody tr th {\n",
       "        vertical-align: top;\n",
       "    }\n",
       "\n",
       "    .dataframe thead th {\n",
       "        text-align: right;\n",
       "    }\n",
       "</style>\n",
       "<table border=\"1\" class=\"dataframe\">\n",
       "  <thead>\n",
       "    <tr style=\"text-align: right;\">\n",
       "      <th></th>\n",
       "      <th>geoid</th>\n",
       "      <th>name</th>\n",
       "      <th>B03002001</th>\n",
       "      <th>B03002001, Error</th>\n",
       "      <th>B03002002</th>\n",
       "      <th>B03002002, Error</th>\n",
       "      <th>B03002003</th>\n",
       "      <th>B03002003, Error</th>\n",
       "      <th>B03002004</th>\n",
       "      <th>B03002004, Error</th>\n",
       "      <th>...</th>\n",
       "      <th>B03002017, Error</th>\n",
       "      <th>B03002018</th>\n",
       "      <th>B03002018, Error</th>\n",
       "      <th>B03002019</th>\n",
       "      <th>B03002019, Error</th>\n",
       "      <th>B03002020</th>\n",
       "      <th>B03002020, Error</th>\n",
       "      <th>B03002021</th>\n",
       "      <th>B03002021, Error</th>\n",
       "      <th>geometry</th>\n",
       "    </tr>\n",
       "  </thead>\n",
       "  <tbody>\n",
       "    <tr>\n",
       "      <th>891</th>\n",
       "      <td>14000US06037271500</td>\n",
       "      <td>Census Tract 2715, Los Angeles, CA</td>\n",
       "      <td>3192.0</td>\n",
       "      <td>166.0</td>\n",
       "      <td>2746.0</td>\n",
       "      <td>172.0</td>\n",
       "      <td>1987.0</td>\n",
       "      <td>173.0</td>\n",
       "      <td>170.0</td>\n",
       "      <td>167.0</td>\n",
       "      <td>...</td>\n",
       "      <td>12.0</td>\n",
       "      <td>24.0</td>\n",
       "      <td>36.0</td>\n",
       "      <td>16.0</td>\n",
       "      <td>20.0</td>\n",
       "      <td>12.0</td>\n",
       "      <td>19.0</td>\n",
       "      <td>4.0</td>\n",
       "      <td>7.0</td>\n",
       "      <td>MULTIPOLYGON (((-118.44491 34.01994, -118.4448...</td>\n",
       "    </tr>\n",
       "  </tbody>\n",
       "</table>\n",
       "<p>1 rows × 45 columns</p>\n",
       "</div>"
      ],
      "text/plain": [
       "                  geoid                                name  B03002001  \\\n",
       "891  14000US06037271500  Census Tract 2715, Los Angeles, CA     3192.0   \n",
       "\n",
       "     B03002001, Error  B03002002  B03002002, Error  B03002003  \\\n",
       "891             166.0     2746.0             172.0     1987.0   \n",
       "\n",
       "     B03002003, Error  B03002004  B03002004, Error  ...  B03002017, Error  \\\n",
       "891             173.0      170.0             167.0  ...              12.0   \n",
       "\n",
       "     B03002018  B03002018, Error  B03002019  B03002019, Error  B03002020  \\\n",
       "891       24.0              36.0       16.0              20.0       12.0   \n",
       "\n",
       "     B03002020, Error  B03002021  B03002021, Error  \\\n",
       "891              19.0        4.0               7.0   \n",
       "\n",
       "                                              geometry  \n",
       "891  MULTIPOLYGON (((-118.44491 34.01994, -118.4448...  \n",
       "\n",
       "[1 rows x 45 columns]"
      ]
     },
     "execution_count": 73,
     "metadata": {},
     "output_type": "execute_result"
    }
   ],
   "source": [
    "#adding zeros to census tracts\n",
    "race = gpd.read_file(\n",
    "        'Data/census/cr_race_tract.geojson',\n",
    "        dtype={\n",
    "            'geoid':str\n",
    "        }\n",
    ")\n",
    "race.sample()"
   ]
  },
  {
   "cell_type": "code",
   "execution_count": 74,
   "metadata": {
    "scrolled": true
   },
   "outputs": [
    {
     "data": {
      "text/html": [
       "<div>\n",
       "<style scoped>\n",
       "    .dataframe tbody tr th:only-of-type {\n",
       "        vertical-align: middle;\n",
       "    }\n",
       "\n",
       "    .dataframe tbody tr th {\n",
       "        vertical-align: top;\n",
       "    }\n",
       "\n",
       "    .dataframe thead th {\n",
       "        text-align: right;\n",
       "    }\n",
       "</style>\n",
       "<table border=\"1\" class=\"dataframe\">\n",
       "  <thead>\n",
       "    <tr style=\"text-align: right;\">\n",
       "      <th></th>\n",
       "      <th>geoid</th>\n",
       "      <th>name</th>\n",
       "      <th>B03002001</th>\n",
       "      <th>B03002001, Error</th>\n",
       "      <th>B03002002</th>\n",
       "      <th>B03002002, Error</th>\n",
       "      <th>B03002003</th>\n",
       "      <th>B03002003, Error</th>\n",
       "      <th>B03002004</th>\n",
       "      <th>B03002004, Error</th>\n",
       "      <th>...</th>\n",
       "      <th>B03002017, Error</th>\n",
       "      <th>B03002018</th>\n",
       "      <th>B03002018, Error</th>\n",
       "      <th>B03002019</th>\n",
       "      <th>B03002019, Error</th>\n",
       "      <th>B03002020</th>\n",
       "      <th>B03002020, Error</th>\n",
       "      <th>B03002021</th>\n",
       "      <th>B03002021, Error</th>\n",
       "      <th>geometry</th>\n",
       "    </tr>\n",
       "  </thead>\n",
       "  <tbody>\n",
       "    <tr>\n",
       "      <th>802</th>\n",
       "      <td>06037240402</td>\n",
       "      <td>Census Tract 2404.02, Los Angeles, CA</td>\n",
       "      <td>4107.0</td>\n",
       "      <td>475.0</td>\n",
       "      <td>1564.0</td>\n",
       "      <td>435.0</td>\n",
       "      <td>19.0</td>\n",
       "      <td>22.0</td>\n",
       "      <td>1528.0</td>\n",
       "      <td>436.0</td>\n",
       "      <td>...</td>\n",
       "      <td>12.0</td>\n",
       "      <td>1084.0</td>\n",
       "      <td>504.0</td>\n",
       "      <td>116.0</td>\n",
       "      <td>121.0</td>\n",
       "      <td>41.0</td>\n",
       "      <td>38.0</td>\n",
       "      <td>75.0</td>\n",
       "      <td>116.0</td>\n",
       "      <td>MULTIPOLYGON (((-118.29163 33.94303, -118.2916...</td>\n",
       "    </tr>\n",
       "  </tbody>\n",
       "</table>\n",
       "<p>1 rows × 45 columns</p>\n",
       "</div>"
      ],
      "text/plain": [
       "           geoid                                   name  B03002001  \\\n",
       "802  06037240402  Census Tract 2404.02, Los Angeles, CA     4107.0   \n",
       "\n",
       "     B03002001, Error  B03002002  B03002002, Error  B03002003  \\\n",
       "802             475.0     1564.0             435.0       19.0   \n",
       "\n",
       "     B03002003, Error  B03002004  B03002004, Error  ...  B03002017, Error  \\\n",
       "802              22.0     1528.0             436.0  ...              12.0   \n",
       "\n",
       "     B03002018  B03002018, Error  B03002019  B03002019, Error  B03002020  \\\n",
       "802     1084.0             504.0      116.0             121.0       41.0   \n",
       "\n",
       "     B03002020, Error  B03002021  B03002021, Error  \\\n",
       "802              38.0       75.0             116.0   \n",
       "\n",
       "                                              geometry  \n",
       "802  MULTIPOLYGON (((-118.29163 33.94303, -118.2916...  \n",
       "\n",
       "[1 rows x 45 columns]"
      ]
     },
     "execution_count": 74,
     "metadata": {},
     "output_type": "execute_result"
    }
   ],
   "source": [
    "#cleaning up the census tract\n",
    "race['geoid'] = race['geoid'].str.replace('14000US','')\n",
    "race.sample()"
   ]
  },
  {
   "cell_type": "code",
   "execution_count": 75,
   "metadata": {},
   "outputs": [
    {
     "data": {
      "text/html": [
       "<div>\n",
       "<style scoped>\n",
       "    .dataframe tbody tr th:only-of-type {\n",
       "        vertical-align: middle;\n",
       "    }\n",
       "\n",
       "    .dataframe tbody tr th {\n",
       "        vertical-align: top;\n",
       "    }\n",
       "\n",
       "    .dataframe thead th {\n",
       "        text-align: right;\n",
       "    }\n",
       "</style>\n",
       "<table border=\"1\" class=\"dataframe\">\n",
       "  <thead>\n",
       "    <tr style=\"text-align: right;\">\n",
       "      <th></th>\n",
       "      <th>censustract</th>\n",
       "      <th>white</th>\n",
       "      <th>black</th>\n",
       "      <th>ami</th>\n",
       "      <th>asian</th>\n",
       "      <th>nhpi</th>\n",
       "      <th>other</th>\n",
       "      <th>multiracial</th>\n",
       "      <th>latinx</th>\n",
       "    </tr>\n",
       "  </thead>\n",
       "  <tbody>\n",
       "    <tr>\n",
       "      <th>839</th>\n",
       "      <td>06037264000</td>\n",
       "      <td>2803.0</td>\n",
       "      <td>0.0</td>\n",
       "      <td>0.0</td>\n",
       "      <td>59.0</td>\n",
       "      <td>0.0</td>\n",
       "      <td>0.0</td>\n",
       "      <td>94.0</td>\n",
       "      <td>181.0</td>\n",
       "    </tr>\n",
       "  </tbody>\n",
       "</table>\n",
       "</div>"
      ],
      "text/plain": [
       "     censustract   white  black  ami  asian  nhpi  other  multiracial  latinx\n",
       "839  06037264000  2803.0    0.0  0.0   59.0   0.0    0.0         94.0   181.0"
      ]
     },
     "execution_count": 75,
     "metadata": {},
     "output_type": "execute_result"
    }
   ],
   "source": [
    "#cleaning up data\n",
    "race = race[['geoid','B03002003','B03002004','B03002005','B03002006','B03002007','B03002008','B03002009','B03002012']]\n",
    "race.columns = ['censustract','white','black','ami','asian','nhpi','other','multiracial','latinx']\n",
    "race.sample()"
   ]
  },
  {
   "cell_type": "code",
   "execution_count": 76,
   "metadata": {},
   "outputs": [
    {
     "data": {
      "text/html": [
       "<div>\n",
       "<style scoped>\n",
       "    .dataframe tbody tr th:only-of-type {\n",
       "        vertical-align: middle;\n",
       "    }\n",
       "\n",
       "    .dataframe tbody tr th {\n",
       "        vertical-align: top;\n",
       "    }\n",
       "\n",
       "    .dataframe thead th {\n",
       "        text-align: right;\n",
       "    }\n",
       "</style>\n",
       "<table border=\"1\" class=\"dataframe\">\n",
       "  <thead>\n",
       "    <tr style=\"text-align: right;\">\n",
       "      <th></th>\n",
       "      <th>censustract</th>\n",
       "      <th>white</th>\n",
       "      <th>black</th>\n",
       "      <th>ami</th>\n",
       "      <th>asian</th>\n",
       "      <th>nhpi</th>\n",
       "      <th>other</th>\n",
       "      <th>multiracial</th>\n",
       "      <th>latinx</th>\n",
       "    </tr>\n",
       "  </thead>\n",
       "  <tbody>\n",
       "    <tr>\n",
       "      <th>1000</th>\n",
       "      <td>06037980026</td>\n",
       "      <td>8.0</td>\n",
       "      <td>10.0</td>\n",
       "      <td>0.0</td>\n",
       "      <td>0.0</td>\n",
       "      <td>0.0</td>\n",
       "      <td>0.0</td>\n",
       "      <td>6.0</td>\n",
       "      <td>13.0</td>\n",
       "    </tr>\n",
       "    <tr>\n",
       "      <th>1001</th>\n",
       "      <td>06037980028</td>\n",
       "      <td>0.0</td>\n",
       "      <td>0.0</td>\n",
       "      <td>0.0</td>\n",
       "      <td>0.0</td>\n",
       "      <td>0.0</td>\n",
       "      <td>0.0</td>\n",
       "      <td>0.0</td>\n",
       "      <td>0.0</td>\n",
       "    </tr>\n",
       "    <tr>\n",
       "      <th>1002</th>\n",
       "      <td>06037980031</td>\n",
       "      <td>399.0</td>\n",
       "      <td>222.0</td>\n",
       "      <td>12.0</td>\n",
       "      <td>40.0</td>\n",
       "      <td>10.0</td>\n",
       "      <td>11.0</td>\n",
       "      <td>56.0</td>\n",
       "      <td>363.0</td>\n",
       "    </tr>\n",
       "    <tr>\n",
       "      <th>1003</th>\n",
       "      <td>06037990200</td>\n",
       "      <td>0.0</td>\n",
       "      <td>0.0</td>\n",
       "      <td>0.0</td>\n",
       "      <td>0.0</td>\n",
       "      <td>0.0</td>\n",
       "      <td>0.0</td>\n",
       "      <td>0.0</td>\n",
       "      <td>0.0</td>\n",
       "    </tr>\n",
       "    <tr>\n",
       "      <th>1004</th>\n",
       "      <td>16000US0644000</td>\n",
       "      <td>1127314.0</td>\n",
       "      <td>340688.0</td>\n",
       "      <td>6091.0</td>\n",
       "      <td>455113.0</td>\n",
       "      <td>5754.0</td>\n",
       "      <td>14051.0</td>\n",
       "      <td>87757.0</td>\n",
       "      <td>1922889.0</td>\n",
       "    </tr>\n",
       "  </tbody>\n",
       "</table>\n",
       "</div>"
      ],
      "text/plain": [
       "         censustract      white     black     ami     asian    nhpi    other  \\\n",
       "1000     06037980026        8.0      10.0     0.0       0.0     0.0      0.0   \n",
       "1001     06037980028        0.0       0.0     0.0       0.0     0.0      0.0   \n",
       "1002     06037980031      399.0     222.0    12.0      40.0    10.0     11.0   \n",
       "1003     06037990200        0.0       0.0     0.0       0.0     0.0      0.0   \n",
       "1004  16000US0644000  1127314.0  340688.0  6091.0  455113.0  5754.0  14051.0   \n",
       "\n",
       "      multiracial     latinx  \n",
       "1000          6.0       13.0  \n",
       "1001          0.0        0.0  \n",
       "1002         56.0      363.0  \n",
       "1003          0.0        0.0  \n",
       "1004      87757.0  1922889.0  "
      ]
     },
     "execution_count": 76,
     "metadata": {},
     "output_type": "execute_result"
    }
   ],
   "source": [
    "#will get rid of the bottonw row\n",
    "race.tail(5)"
   ]
  },
  {
   "cell_type": "code",
   "execution_count": 77,
   "metadata": {},
   "outputs": [],
   "source": [
    "#dropping the last row \n",
    "race=race.drop(1004)"
   ]
  },
  {
   "cell_type": "code",
   "execution_count": 78,
   "metadata": {},
   "outputs": [
    {
     "data": {
      "text/html": [
       "<div>\n",
       "<style scoped>\n",
       "    .dataframe tbody tr th:only-of-type {\n",
       "        vertical-align: middle;\n",
       "    }\n",
       "\n",
       "    .dataframe tbody tr th {\n",
       "        vertical-align: top;\n",
       "    }\n",
       "\n",
       "    .dataframe thead th {\n",
       "        text-align: right;\n",
       "    }\n",
       "</style>\n",
       "<table border=\"1\" class=\"dataframe\">\n",
       "  <thead>\n",
       "    <tr style=\"text-align: right;\">\n",
       "      <th></th>\n",
       "      <th>censustract</th>\n",
       "      <th>white</th>\n",
       "      <th>black</th>\n",
       "      <th>ami</th>\n",
       "      <th>asian</th>\n",
       "      <th>nhpi</th>\n",
       "      <th>other</th>\n",
       "      <th>multiracial</th>\n",
       "      <th>latinx</th>\n",
       "    </tr>\n",
       "  </thead>\n",
       "  <tbody>\n",
       "    <tr>\n",
       "      <th>999</th>\n",
       "      <td>06037980024</td>\n",
       "      <td>160.0</td>\n",
       "      <td>17.0</td>\n",
       "      <td>11.0</td>\n",
       "      <td>12.0</td>\n",
       "      <td>0.0</td>\n",
       "      <td>0.0</td>\n",
       "      <td>0.0</td>\n",
       "      <td>64.0</td>\n",
       "    </tr>\n",
       "    <tr>\n",
       "      <th>1000</th>\n",
       "      <td>06037980026</td>\n",
       "      <td>8.0</td>\n",
       "      <td>10.0</td>\n",
       "      <td>0.0</td>\n",
       "      <td>0.0</td>\n",
       "      <td>0.0</td>\n",
       "      <td>0.0</td>\n",
       "      <td>6.0</td>\n",
       "      <td>13.0</td>\n",
       "    </tr>\n",
       "    <tr>\n",
       "      <th>1001</th>\n",
       "      <td>06037980028</td>\n",
       "      <td>0.0</td>\n",
       "      <td>0.0</td>\n",
       "      <td>0.0</td>\n",
       "      <td>0.0</td>\n",
       "      <td>0.0</td>\n",
       "      <td>0.0</td>\n",
       "      <td>0.0</td>\n",
       "      <td>0.0</td>\n",
       "    </tr>\n",
       "    <tr>\n",
       "      <th>1002</th>\n",
       "      <td>06037980031</td>\n",
       "      <td>399.0</td>\n",
       "      <td>222.0</td>\n",
       "      <td>12.0</td>\n",
       "      <td>40.0</td>\n",
       "      <td>10.0</td>\n",
       "      <td>11.0</td>\n",
       "      <td>56.0</td>\n",
       "      <td>363.0</td>\n",
       "    </tr>\n",
       "    <tr>\n",
       "      <th>1003</th>\n",
       "      <td>06037990200</td>\n",
       "      <td>0.0</td>\n",
       "      <td>0.0</td>\n",
       "      <td>0.0</td>\n",
       "      <td>0.0</td>\n",
       "      <td>0.0</td>\n",
       "      <td>0.0</td>\n",
       "      <td>0.0</td>\n",
       "      <td>0.0</td>\n",
       "    </tr>\n",
       "  </tbody>\n",
       "</table>\n",
       "</div>"
      ],
      "text/plain": [
       "      censustract  white  black   ami  asian  nhpi  other  multiracial  latinx\n",
       "999   06037980024  160.0   17.0  11.0   12.0   0.0    0.0          0.0    64.0\n",
       "1000  06037980026    8.0   10.0   0.0    0.0   0.0    0.0          6.0    13.0\n",
       "1001  06037980028    0.0    0.0   0.0    0.0   0.0    0.0          0.0     0.0\n",
       "1002  06037980031  399.0  222.0  12.0   40.0  10.0   11.0         56.0   363.0\n",
       "1003  06037990200    0.0    0.0   0.0    0.0   0.0    0.0          0.0     0.0"
      ]
     },
     "execution_count": 78,
     "metadata": {},
     "output_type": "execute_result"
    }
   ],
   "source": [
    "#double checking the last row\n",
    "race.tail()"
   ]
  },
  {
   "cell_type": "code",
   "execution_count": 79,
   "metadata": {},
   "outputs": [
    {
     "data": {
      "text/html": [
       "<div>\n",
       "<style scoped>\n",
       "    .dataframe tbody tr th:only-of-type {\n",
       "        vertical-align: middle;\n",
       "    }\n",
       "\n",
       "    .dataframe tbody tr th {\n",
       "        vertical-align: top;\n",
       "    }\n",
       "\n",
       "    .dataframe thead th {\n",
       "        text-align: right;\n",
       "    }\n",
       "</style>\n",
       "<table border=\"1\" class=\"dataframe\">\n",
       "  <thead>\n",
       "    <tr style=\"text-align: right;\">\n",
       "      <th></th>\n",
       "      <th>censustract</th>\n",
       "      <th>totalpop</th>\n",
       "      <th>lon</th>\n",
       "      <th>lat</th>\n",
       "      <th>pm25</th>\n",
       "      <th>pm25_pctl</th>\n",
       "      <th>poverty</th>\n",
       "      <th>white</th>\n",
       "      <th>black</th>\n",
       "      <th>ami</th>\n",
       "      <th>asian</th>\n",
       "      <th>nhpi</th>\n",
       "      <th>other</th>\n",
       "      <th>multiracial</th>\n",
       "      <th>latinx</th>\n",
       "    </tr>\n",
       "  </thead>\n",
       "  <tbody>\n",
       "    <tr>\n",
       "      <th>513</th>\n",
       "      <td>06037217100</td>\n",
       "      <td>5374</td>\n",
       "      <td>-118.35453</td>\n",
       "      <td>34.048966</td>\n",
       "      <td>12.05</td>\n",
       "      <td>81.66</td>\n",
       "      <td>27.8</td>\n",
       "      <td>1453.0</td>\n",
       "      <td>1803.0</td>\n",
       "      <td>0.0</td>\n",
       "      <td>215.0</td>\n",
       "      <td>0.0</td>\n",
       "      <td>355.0</td>\n",
       "      <td>102.0</td>\n",
       "      <td>2398.0</td>\n",
       "    </tr>\n",
       "  </tbody>\n",
       "</table>\n",
       "</div>"
      ],
      "text/plain": [
       "     censustract  totalpop        lon        lat   pm25  pm25_pctl  poverty  \\\n",
       "513  06037217100      5374 -118.35453  34.048966  12.05      81.66     27.8   \n",
       "\n",
       "      white   black  ami  asian  nhpi  other  multiracial  latinx  \n",
       "513  1453.0  1803.0  0.0  215.0   0.0  355.0        102.0  2398.0  "
      ]
     },
     "execution_count": 79,
     "metadata": {},
     "output_type": "execute_result"
    }
   ],
   "source": [
    "#merging CES and census data\n",
    "df = ces.merge(race,on=\"censustract\")\n",
    "df.sample()"
   ]
  },
  {
   "cell_type": "code",
   "execution_count": 80,
   "metadata": {},
   "outputs": [
    {
     "data": {
      "text/html": [
       "<div>\n",
       "<style scoped>\n",
       "    .dataframe tbody tr th:only-of-type {\n",
       "        vertical-align: middle;\n",
       "    }\n",
       "\n",
       "    .dataframe tbody tr th {\n",
       "        vertical-align: top;\n",
       "    }\n",
       "\n",
       "    .dataframe thead th {\n",
       "        text-align: right;\n",
       "    }\n",
       "</style>\n",
       "<table border=\"1\" class=\"dataframe\">\n",
       "  <thead>\n",
       "    <tr style=\"text-align: right;\">\n",
       "      <th></th>\n",
       "      <th>GEOID</th>\n",
       "      <th>Tract</th>\n",
       "      <th>CensusTract</th>\n",
       "      <th>Tract Number</th>\n",
       "      <th>Neighborhood</th>\n",
       "      <th>Location</th>\n",
       "      <th>Latitude</th>\n",
       "      <th>Longitude</th>\n",
       "    </tr>\n",
       "  </thead>\n",
       "  <tbody>\n",
       "    <tr>\n",
       "      <th>325</th>\n",
       "      <td>1400000US06037139701</td>\n",
       "      <td>Census Tract 1397.01, Los Angeles County, Cali...</td>\n",
       "      <td>6037139701</td>\n",
       "      <td>139701</td>\n",
       "      <td>Encino</td>\n",
       "      <td>(34.157356, -118.4967075)</td>\n",
       "      <td>34.157356</td>\n",
       "      <td>-118.496707</td>\n",
       "    </tr>\n",
       "  </tbody>\n",
       "</table>\n",
       "</div>"
      ],
      "text/plain": [
       "                    GEOID                                              Tract  \\\n",
       "325  1400000US06037139701  Census Tract 1397.01, Los Angeles County, Cali...   \n",
       "\n",
       "     CensusTract  Tract Number Neighborhood                   Location  \\\n",
       "325   6037139701        139701       Encino  (34.157356, -118.4967075)   \n",
       "\n",
       "      Latitude   Longitude  \n",
       "325  34.157356 -118.496707  "
      ]
     },
     "execution_count": 80,
     "metadata": {},
     "output_type": "execute_result"
    }
   ],
   "source": [
    "#adding usc database to get neighborhood names\n",
    "usc = pd.read_csv('Data/Censust_neighborhood.csv')\n",
    "usc.sample()"
   ]
  },
  {
   "cell_type": "code",
   "execution_count": 81,
   "metadata": {},
   "outputs": [
    {
     "data": {
      "text/html": [
       "<div>\n",
       "<style scoped>\n",
       "    .dataframe tbody tr th:only-of-type {\n",
       "        vertical-align: middle;\n",
       "    }\n",
       "\n",
       "    .dataframe tbody tr th {\n",
       "        vertical-align: top;\n",
       "    }\n",
       "\n",
       "    .dataframe thead th {\n",
       "        text-align: right;\n",
       "    }\n",
       "</style>\n",
       "<table border=\"1\" class=\"dataframe\">\n",
       "  <thead>\n",
       "    <tr style=\"text-align: right;\">\n",
       "      <th></th>\n",
       "      <th>GEOID</th>\n",
       "      <th>Tract</th>\n",
       "      <th>CensusTract</th>\n",
       "      <th>Tract Number</th>\n",
       "      <th>Neighborhood</th>\n",
       "      <th>Location</th>\n",
       "      <th>Latitude</th>\n",
       "      <th>Longitude</th>\n",
       "    </tr>\n",
       "  </thead>\n",
       "  <tbody>\n",
       "    <tr>\n",
       "      <th>1892</th>\n",
       "      <td>1400000US06037575001</td>\n",
       "      <td>Census Tract 5750.01, Los Angeles County, Cali...</td>\n",
       "      <td>06037575001</td>\n",
       "      <td>575001</td>\n",
       "      <td>Long Beach</td>\n",
       "      <td>(33.794735, -118.147801)</td>\n",
       "      <td>33.794735</td>\n",
       "      <td>-118.147801</td>\n",
       "    </tr>\n",
       "  </tbody>\n",
       "</table>\n",
       "</div>"
      ],
      "text/plain": [
       "                     GEOID                                              Tract  \\\n",
       "1892  1400000US06037575001  Census Tract 5750.01, Los Angeles County, Cali...   \n",
       "\n",
       "      CensusTract  Tract Number Neighborhood                  Location  \\\n",
       "1892  06037575001        575001   Long Beach  (33.794735, -118.147801)   \n",
       "\n",
       "       Latitude   Longitude  \n",
       "1892  33.794735 -118.147801  "
      ]
     },
     "execution_count": 81,
     "metadata": {},
     "output_type": "execute_result"
    }
   ],
   "source": [
    "#cleaning up the census tract\n",
    "usc = pd.read_csv(\n",
    "        'Data/Censust_neighborhood.csv',\n",
    "        dtype={\n",
    "            'CensusTract':str\n",
    "        }\n",
    ")\n",
    "usc.sample()"
   ]
  },
  {
   "cell_type": "code",
   "execution_count": 82,
   "metadata": {},
   "outputs": [
    {
     "data": {
      "text/html": [
       "<div>\n",
       "<style scoped>\n",
       "    .dataframe tbody tr th:only-of-type {\n",
       "        vertical-align: middle;\n",
       "    }\n",
       "\n",
       "    .dataframe tbody tr th {\n",
       "        vertical-align: top;\n",
       "    }\n",
       "\n",
       "    .dataframe thead th {\n",
       "        text-align: right;\n",
       "    }\n",
       "</style>\n",
       "<table border=\"1\" class=\"dataframe\">\n",
       "  <thead>\n",
       "    <tr style=\"text-align: right;\">\n",
       "      <th></th>\n",
       "      <th>censustract</th>\n",
       "      <th>neighborhood</th>\n",
       "    </tr>\n",
       "  </thead>\n",
       "  <tbody>\n",
       "    <tr>\n",
       "      <th>203</th>\n",
       "      <td>06037124903</td>\n",
       "      <td>Valley Village</td>\n",
       "    </tr>\n",
       "  </tbody>\n",
       "</table>\n",
       "</div>"
      ],
      "text/plain": [
       "     censustract    neighborhood\n",
       "203  06037124903  Valley Village"
      ]
     },
     "execution_count": 82,
     "metadata": {},
     "output_type": "execute_result"
    }
   ],
   "source": [
    "#cleaning up the data\n",
    "usc = usc[['CensusTract','Neighborhood']]\n",
    "usc.columns = ['censustract','neighborhood']\n",
    "usc.sample()"
   ]
  },
  {
   "cell_type": "code",
   "execution_count": 83,
   "metadata": {},
   "outputs": [
    {
     "data": {
      "text/html": [
       "<div>\n",
       "<style scoped>\n",
       "    .dataframe tbody tr th:only-of-type {\n",
       "        vertical-align: middle;\n",
       "    }\n",
       "\n",
       "    .dataframe tbody tr th {\n",
       "        vertical-align: top;\n",
       "    }\n",
       "\n",
       "    .dataframe thead th {\n",
       "        text-align: right;\n",
       "    }\n",
       "</style>\n",
       "<table border=\"1\" class=\"dataframe\">\n",
       "  <thead>\n",
       "    <tr style=\"text-align: right;\">\n",
       "      <th></th>\n",
       "      <th>censustract</th>\n",
       "      <th>neighborhood</th>\n",
       "      <th>totalpop</th>\n",
       "      <th>lon</th>\n",
       "      <th>lat</th>\n",
       "      <th>pm25</th>\n",
       "      <th>pm25_pctl</th>\n",
       "      <th>poverty</th>\n",
       "      <th>white</th>\n",
       "      <th>black</th>\n",
       "      <th>ami</th>\n",
       "      <th>asian</th>\n",
       "      <th>nhpi</th>\n",
       "      <th>other</th>\n",
       "      <th>multiracial</th>\n",
       "      <th>latinx</th>\n",
       "    </tr>\n",
       "  </thead>\n",
       "  <tbody>\n",
       "    <tr>\n",
       "      <th>569</th>\n",
       "      <td>06037209510</td>\n",
       "      <td>Westlake</td>\n",
       "      <td>2692</td>\n",
       "      <td>-118.281958</td>\n",
       "      <td>34.052963</td>\n",
       "      <td>12.89</td>\n",
       "      <td>92.89</td>\n",
       "      <td>67.2</td>\n",
       "      <td>97.0</td>\n",
       "      <td>84.0</td>\n",
       "      <td>6.0</td>\n",
       "      <td>697.0</td>\n",
       "      <td>0.0</td>\n",
       "      <td>78.0</td>\n",
       "      <td>14.0</td>\n",
       "      <td>2028.0</td>\n",
       "    </tr>\n",
       "  </tbody>\n",
       "</table>\n",
       "</div>"
      ],
      "text/plain": [
       "     censustract neighborhood  totalpop         lon        lat   pm25  \\\n",
       "569  06037209510     Westlake      2692 -118.281958  34.052963  12.89   \n",
       "\n",
       "     pm25_pctl  poverty  white  black  ami  asian  nhpi  other  multiracial  \\\n",
       "569      92.89     67.2   97.0   84.0  6.0  697.0   0.0   78.0         14.0   \n",
       "\n",
       "     latinx  \n",
       "569  2028.0  "
      ]
     },
     "execution_count": 83,
     "metadata": {},
     "output_type": "execute_result"
    }
   ],
   "source": [
    "#merging USC and df datasets\n",
    "air = usc.merge(df,on='censustract')\n",
    "air.sample()"
   ]
  },
  {
   "cell_type": "code",
   "execution_count": 84,
   "metadata": {
    "scrolled": true
   },
   "outputs": [
    {
     "data": {
      "text/plain": [
       "count    1002.000000\n",
       "mean       11.884891\n",
       "std         0.848565\n",
       "min         8.697944\n",
       "25%        11.210000\n",
       "50%        12.050000\n",
       "75%        12.890000\n",
       "max        12.890000\n",
       "Name: pm25, dtype: float64"
      ]
     },
     "execution_count": 84,
     "metadata": {},
     "output_type": "execute_result"
    }
   ],
   "source": [
    "#finding descriptive statistics of data\n",
    "air.pm25.describe()"
   ]
  },
  {
   "cell_type": "code",
   "execution_count": 85,
   "metadata": {},
   "outputs": [
    {
     "data": {
      "text/html": [
       "<div>\n",
       "<style scoped>\n",
       "    .dataframe tbody tr th:only-of-type {\n",
       "        vertical-align: middle;\n",
       "    }\n",
       "\n",
       "    .dataframe tbody tr th {\n",
       "        vertical-align: top;\n",
       "    }\n",
       "\n",
       "    .dataframe thead th {\n",
       "        text-align: right;\n",
       "    }\n",
       "</style>\n",
       "<table border=\"1\" class=\"dataframe\">\n",
       "  <thead>\n",
       "    <tr style=\"text-align: right;\">\n",
       "      <th></th>\n",
       "      <th>neighborhood</th>\n",
       "      <th>pm25</th>\n",
       "    </tr>\n",
       "  </thead>\n",
       "  <tbody>\n",
       "    <tr>\n",
       "      <th>0</th>\n",
       "      <td>Adams-Normandie</td>\n",
       "      <td>12.89</td>\n",
       "    </tr>\n",
       "    <tr>\n",
       "      <th>21</th>\n",
       "      <td>Chinatown</td>\n",
       "      <td>12.89</td>\n",
       "    </tr>\n",
       "    <tr>\n",
       "      <th>119</th>\n",
       "      <td>Windsor Square</td>\n",
       "      <td>12.89</td>\n",
       "    </tr>\n",
       "    <tr>\n",
       "      <th>101</th>\n",
       "      <td>University Park</td>\n",
       "      <td>12.89</td>\n",
       "    </tr>\n",
       "    <tr>\n",
       "      <th>92</th>\n",
       "      <td>South Park</td>\n",
       "      <td>12.89</td>\n",
       "    </tr>\n",
       "  </tbody>\n",
       "</table>\n",
       "</div>"
      ],
      "text/plain": [
       "        neighborhood   pm25\n",
       "0    Adams-Normandie  12.89\n",
       "21         Chinatown  12.89\n",
       "119   Windsor Square  12.89\n",
       "101  University Park  12.89\n",
       "92        South Park  12.89"
      ]
     },
     "execution_count": 85,
     "metadata": {},
     "output_type": "execute_result"
    }
   ],
   "source": [
    "#soring data from high PM to low PM  by neighbrohood\n",
    "pm25_sorted1 = air.groupby('neighborhood', as_index=False)['pm25'].mean().sort_values(by='pm25',ascending=False)\n",
    "pm25_sorted1.head()"
   ]
  },
  {
   "cell_type": "code",
   "execution_count": 86,
   "metadata": {},
   "outputs": [
    {
     "data": {
      "text/plain": [
       "(0.0, 15.0)"
      ]
     },
     "execution_count": 86,
     "metadata": {},
     "output_type": "execute_result"
    },
    {
     "data": {
      "image/png": "[encoded data removed]",
      "text/plain": [
       "<Figure size 1440x360 with 1 Axes>"
      ]
     },
     "metadata": {
      "needs_background": "light"
     },
     "output_type": "display_data"
    }
   ],
   "source": [
    "#plotting the above onto a bar graph\n",
    "pm25_sorted1 = pm25_sorted1[:50].plot.bar(figsize=(20,5),x='neighborhood',y='pm25')\n",
    "pm25_sorted1.set_ylim([0,15])"
   ]
  },
  {
   "cell_type": "code",
   "execution_count": 87,
   "metadata": {},
   "outputs": [
    {
     "data": {
      "text/html": [
       "<div>\n",
       "<style scoped>\n",
       "    .dataframe tbody tr th:only-of-type {\n",
       "        vertical-align: middle;\n",
       "    }\n",
       "\n",
       "    .dataframe tbody tr th {\n",
       "        vertical-align: top;\n",
       "    }\n",
       "\n",
       "    .dataframe thead th {\n",
       "        text-align: right;\n",
       "    }\n",
       "</style>\n",
       "<table border=\"1\" class=\"dataframe\">\n",
       "  <thead>\n",
       "    <tr style=\"text-align: right;\">\n",
       "      <th></th>\n",
       "      <th>neighborhood</th>\n",
       "      <th>pm25</th>\n",
       "    </tr>\n",
       "  </thead>\n",
       "  <tbody>\n",
       "    <tr>\n",
       "      <th>100</th>\n",
       "      <td>Tujunga Canyons</td>\n",
       "      <td>8.697944</td>\n",
       "    </tr>\n",
       "    <tr>\n",
       "      <th>18</th>\n",
       "      <td>Chatsworth Reservoir</td>\n",
       "      <td>9.955483</td>\n",
       "    </tr>\n",
       "    <tr>\n",
       "      <th>17</th>\n",
       "      <td>Chatsworth</td>\n",
       "      <td>10.256950</td>\n",
       "    </tr>\n",
       "    <tr>\n",
       "      <th>113</th>\n",
       "      <td>West Hills</td>\n",
       "      <td>10.332317</td>\n",
       "    </tr>\n",
       "    <tr>\n",
       "      <th>57</th>\n",
       "      <td>Lake Balboa</td>\n",
       "      <td>10.370000</td>\n",
       "    </tr>\n",
       "  </tbody>\n",
       "</table>\n",
       "</div>"
      ],
      "text/plain": [
       "             neighborhood       pm25\n",
       "100       Tujunga Canyons   8.697944\n",
       "18   Chatsworth Reservoir   9.955483\n",
       "17             Chatsworth  10.256950\n",
       "113            West Hills  10.332317\n",
       "57            Lake Balboa  10.370000"
      ]
     },
     "execution_count": 87,
     "metadata": {},
     "output_type": "execute_result"
    }
   ],
   "source": [
    "#soring data from low PM to high PM  by neighbrohood\n",
    "pm25_sorted3 = air.groupby('neighborhood', as_index=False)['pm25'].mean().sort_values(by='pm25',ascending=True)\n",
    "pm25_sorted3.head()"
   ]
  },
  {
   "cell_type": "code",
   "execution_count": 88,
   "metadata": {},
   "outputs": [
    {
     "data": {
      "text/plain": [
       "(0.0, 15.0)"
      ]
     },
     "execution_count": 88,
     "metadata": {},
     "output_type": "execute_result"
    },
    {
     "data": {
      "image/png": "[encoded data removed]",
      "text/plain": [
       "<Figure size 1440x360 with 1 Axes>"
      ]
     },
     "metadata": {
      "needs_background": "light"
     },
     "output_type": "display_data"
    }
   ],
   "source": [
    "#plotting the above onto a bar graph\n",
    "pm25_sorted3 = pm25_sorted3[:50].plot.bar(figsize=(20,5),x='neighborhood',y='pm25')\n",
    "pm25_sorted3.set_ylim([0,15])"
   ]
  },
  {
   "cell_type": "code",
   "execution_count": 89,
   "metadata": {},
   "outputs": [],
   "source": [
    "#importing more libraries to create better bar graphs\n",
    "import pandas as pd\n",
    "import plotly.express as px\n",
    "import plotly.graph_objects as go\n",
    "from sodapy import Socrata\n",
    "import plotly.graph_objects as go"
   ]
  },
  {
   "cell_type": "code",
   "execution_count": 90,
   "metadata": {
    "scrolled": true
   },
   "outputs": [
    {
     "data": {
      "text/html": [
       "<div>\n",
       "<style scoped>\n",
       "    .dataframe tbody tr th:only-of-type {\n",
       "        vertical-align: middle;\n",
       "    }\n",
       "\n",
       "    .dataframe tbody tr th {\n",
       "        vertical-align: top;\n",
       "    }\n",
       "\n",
       "    .dataframe thead th {\n",
       "        text-align: right;\n",
       "    }\n",
       "</style>\n",
       "<table border=\"1\" class=\"dataframe\">\n",
       "  <thead>\n",
       "    <tr style=\"text-align: right;\">\n",
       "      <th></th>\n",
       "      <th>neighborhood</th>\n",
       "      <th>pm25</th>\n",
       "    </tr>\n",
       "  </thead>\n",
       "  <tbody>\n",
       "    <tr>\n",
       "      <th>0</th>\n",
       "      <td>Adams-Normandie</td>\n",
       "      <td>12.89</td>\n",
       "    </tr>\n",
       "    <tr>\n",
       "      <th>21</th>\n",
       "      <td>Chinatown</td>\n",
       "      <td>12.89</td>\n",
       "    </tr>\n",
       "    <tr>\n",
       "      <th>119</th>\n",
       "      <td>Windsor Square</td>\n",
       "      <td>12.89</td>\n",
       "    </tr>\n",
       "    <tr>\n",
       "      <th>101</th>\n",
       "      <td>University Park</td>\n",
       "      <td>12.89</td>\n",
       "    </tr>\n",
       "    <tr>\n",
       "      <th>92</th>\n",
       "      <td>South Park</td>\n",
       "      <td>12.89</td>\n",
       "    </tr>\n",
       "  </tbody>\n",
       "</table>\n",
       "</div>"
      ],
      "text/plain": [
       "        neighborhood   pm25\n",
       "0    Adams-Normandie  12.89\n",
       "21         Chinatown  12.89\n",
       "119   Windsor Square  12.89\n",
       "101  University Park  12.89\n",
       "92        South Park  12.89"
      ]
     },
     "execution_count": 90,
     "metadata": {},
     "output_type": "execute_result"
    }
   ],
   "source": [
    "#sorting data again from high to low PM \n",
    "sort1 = air.groupby('neighborhood', as_index=False)['pm25'].mean().sort_values(by='pm25',ascending=False)\n",
    "sort1.head()"
   ]
  },
  {
   "cell_type": "code",
   "execution_count": 91,
   "metadata": {
    "scrolled": false
   },
   "outputs": [
    {
     "data": {
      "application/vnd.plotly.v1+json": {
       "config": {
        "plotlyServerURL": "https://plot.ly"
       },
       "data": [
        {
         "alignmentgroup": "True",
         "hovertemplate": "neighborhood=%{x}<br>PM 2.5=%{y}<extra></extra>",
         "legendgroup": "",
         "marker": {
          "color": "#636efa"
         },
         "name": "",
         "offsetgroup": "",
         "orientation": "v",
         "showlegend": false,
         "textposition": "auto",
         "type": "bar",
         "x": [
          "Adams-Normandie",
          "Chinatown",
          "Windsor Square",
          "University Park",
          "South Park",
          "Silver Lake",
          "Los Feliz",
          "Larchmont",
          "Jefferson Park",
          "Historic South-Central",
          "Harvard Heights",
          "Exposition Park",
          "Elysian Park",
          "Echo Park",
          "Cypress Park",
          "Lincoln Heights",
          "Arlington Heights",
          "Downtown",
          "Pico-Union",
          "East Hollywood",
          "Boyle Heights",
          "Westlake",
          "Koreatown",
          "Central-Alameda",
          "Vermont Square",
          "Elysian Valley",
          "Mount Washington",
          "Montecito Heights",
          "Hancock Park",
          "Atwater Village",
          "Griffith Park",
          "Leimert Park",
          "Hollywood",
          "Vermont-Slauson",
          "Glassell Park",
          "Mid-Wilshire",
          "Mid-City",
          "Chesterfield Square",
          "Hollywood Hills",
          "West Adams",
          "Baldwin Hills/Crenshaw",
          "El Sereno",
          "Florence",
          "Hyde Park",
          "North Hollywood",
          "Toluca Lake",
          "Playa Vista",
          "Playa del Rey",
          "Pico-Robertson",
          "Rancho Park",
          "Valley Village",
          "Manchester Square",
          "Veterans Administration",
          "West Los Angeles",
          "Ladera Heights",
          "Century City",
          "Beverly Hills",
          "Beverlywood",
          "Florence-Firestone",
          "Gramercy Park",
          "Fairfax",
          "Broadway-Manchester",
          "Harvard Park",
          "Gardena",
          "Carthay",
          "Cheviot Hills",
          "Hollywood Hills West",
          "Beverly Grove",
          "Studio City",
          "Green Meadows",
          "Palms",
          "Venice",
          "Mar Vista",
          "Vermont Knolls",
          "Vermont Vista",
          "Sawtelle",
          "Watts",
          "Del Rey",
          "Westchester",
          "Westwood",
          "Harbor Gateway",
          "Sun Valley",
          "Highland Park",
          "Eagle Rock",
          "Shadow Hills",
          "Brentwood",
          "Bel-Air",
          "Hansen Dam",
          "Beverly Crest",
          "Valley Glen",
          "Sherman Oaks",
          "Sunland",
          "Harbor City",
          "Pacoima",
          "Panorama City",
          "Wilmington",
          "San Pedro",
          "Mission Hills",
          "San Fernando",
          "Arleta",
          "Lake View Terrace",
          "Lopez/Kagel Canyons",
          "Tujunga",
          "Pacific Palisades",
          "Sylmar",
          "Van Nuys",
          "North Hills",
          "Sepulveda Basin",
          "Granada Hills",
          "Encino",
          "Canoga Park",
          "Northridge",
          "Tarzana",
          "Reseda",
          "Winnetka",
          "Woodland Hills",
          "Porter Ranch",
          "Lake Balboa",
          "West Hills",
          "Chatsworth",
          "Chatsworth Reservoir",
          "Tujunga Canyons"
         ],
         "xaxis": "x",
         "y": [
          12.89,
          12.89,
          12.89,
          12.89,
          12.89,
          12.89,
          12.89,
          12.89,
          12.89,
          12.89,
          12.89,
          12.89,
          12.89,
          12.89,
          12.89,
          12.89,
          12.89,
          12.889999999999999,
          12.889999999999999,
          12.889999999999995,
          12.889999999999993,
          12.889999999999992,
          12.889999999999992,
          12.848000000000003,
          12.843333333333334,
          12.75,
          12.68,
          12.53,
          12.47,
          12.47,
          12.47,
          12.47,
          12.412727272727274,
          12.364999999999998,
          12.35,
          12.317272727272725,
          12.200000000000003,
          12.190000000000003,
          12.19,
          12.19,
          12.17,
          12.164545454545454,
          12.114615384615385,
          12.091999999999999,
          12.050000000000004,
          12.050000000000002,
          12.05,
          12.05,
          12.05,
          12.05,
          12.05,
          12.05,
          12.05,
          12.05,
          12.05,
          12.05,
          12.05,
          12.05,
          12.05,
          12.05,
          12.05,
          12.05,
          12.05,
          12.05,
          12.05,
          12.05,
          12.05,
          12.049999999999999,
          12.049999999999999,
          12.049999999999999,
          12.049999999999999,
          12.049999999999999,
          12.049999999999999,
          12.049999999999999,
          12.049999999999999,
          12.049999999999999,
          12.049999999999999,
          12.049999999999999,
          12.049999999999999,
          12.01769230769231,
          11.997499999999999,
          11.966000000000005,
          11.960000000000003,
          11.84,
          11.798000000000002,
          11.672,
          11.63,
          11.63,
          11.63,
          11.602000000000002,
          11.373333333333337,
          11.350000000000001,
          11.270000000000001,
          11.254210526315793,
          11.210000000000004,
          11.210000000000004,
          11.210000000000004,
          11.21,
          11.21,
          11.21,
          11.21,
          11.21,
          11.209999999999999,
          11.150000000000002,
          11.140000000000004,
          11.129230769230771,
          11.030000000000003,
          10.79,
          10.621999999999998,
          10.59909090909091,
          10.370000000000001,
          10.370000000000001,
          10.370000000000001,
          10.370000000000001,
          10.370000000000001,
          10.370000000000001,
          10.37,
          10.37,
          10.332316605454546,
          10.256949816363637,
          9.95548266,
          8.69794377
         ],
         "yaxis": "y"
        }
       ],
       "layout": {
        "barmode": "relative",
        "legend": {
         "tracegroupgap": 0
        },
        "template": {
         "data": {
          "bar": [
           {
            "error_x": {
             "color": "#2a3f5f"
            },
            "error_y": {
             "color": "#2a3f5f"
            },
            "marker": {
             "line": {
              "color": "#E5ECF6",
              "width": 0.5
             }
            },
            "type": "bar"
           }
          ],
          "barpolar": [
           {
            "marker": {
             "line": {
              "color": "#E5ECF6",
              "width": 0.5
             }
            },
            "type": "barpolar"
           }
          ],
          "carpet": [
           {
            "aaxis": {
             "endlinecolor": "#2a3f5f",
             "gridcolor": "white",
             "linecolor": "white",
             "minorgridcolor": "white",
             "startlinecolor": "#2a3f5f"
            },
            "baxis": {
             "endlinecolor": "#2a3f5f",
             "gridcolor": "white",
             "linecolor": "white",
             "minorgridcolor": "white",
             "startlinecolor": "#2a3f5f"
            },
            "type": "carpet"
           }
          ],
          "choropleth": [
           {
            "colorbar": {
             "outlinewidth": 0,
             "ticks": ""
            },
            "type": "choropleth"
           }
          ],
          "contour": [
           {
            "colorbar": {
             "outlinewidth": 0,
             "ticks": ""
            },
            "colorscale": [
             [
              0,
              "#0d0887"
             ],
             [
              0.1111111111111111,
              "#46039f"
             ],
             [
              0.2222222222222222,
              "#7201a8"
             ],
             [
              0.3333333333333333,
              "#9c179e"
             ],
             [
              0.4444444444444444,
              "#bd3786"
             ],
             [
              0.5555555555555556,
              "#d8576b"
             ],
             [
              0.6666666666666666,
              "#ed7953"
             ],
             [
              0.7777777777777778,
              "#fb9f3a"
             ],
             [
              0.8888888888888888,
              "#fdca26"
             ],
             [
              1,
              "#f0f921"
             ]
            ],
            "type": "contour"
           }
          ],
          "contourcarpet": [
           {
            "colorbar": {
             "outlinewidth": 0,
             "ticks": ""
            },
            "type": "contourcarpet"
           }
          ],
          "heatmap": [
           {
            "colorbar": {
             "outlinewidth": 0,
             "ticks": ""
            },
            "colorscale": [
             [
              0,
              "#0d0887"
             ],
             [
              0.1111111111111111,
              "#46039f"
             ],
             [
              0.2222222222222222,
              "#7201a8"
             ],
             [
              0.3333333333333333,
              "#9c179e"
             ],
             [
              0.4444444444444444,
              "#bd3786"
             ],
             [
              0.5555555555555556,
              "#d8576b"
             ],
             [
              0.6666666666666666,
              "#ed7953"
             ],
             [
              0.7777777777777778,
              "#fb9f3a"
             ],
             [
              0.8888888888888888,
              "#fdca26"
             ],
             [
              1,
              "#f0f921"
             ]
            ],
            "type": "heatmap"
           }
          ],
          "heatmapgl": [
           {
            "colorbar": {
             "outlinewidth": 0,
             "ticks": ""
            },
            "colorscale": [
             [
              0,
              "#0d0887"
             ],
             [
              0.1111111111111111,
              "#46039f"
             ],
             [
              0.2222222222222222,
              "#7201a8"
             ],
             [
              0.3333333333333333,
              "#9c179e"
             ],
             [
              0.4444444444444444,
              "#bd3786"
             ],
             [
              0.5555555555555556,
              "#d8576b"
             ],
             [
              0.6666666666666666,
              "#ed7953"
             ],
             [
              0.7777777777777778,
              "#fb9f3a"
             ],
             [
              0.8888888888888888,
              "#fdca26"
             ],
             [
              1,
              "#f0f921"
             ]
            ],
            "type": "heatmapgl"
           }
          ],
          "histogram": [
           {
            "marker": {
             "colorbar": {
              "outlinewidth": 0,
              "ticks": ""
             }
            },
            "type": "histogram"
           }
          ],
          "histogram2d": [
           {
            "colorbar": {
             "outlinewidth": 0,
             "ticks": ""
            },
            "colorscale": [
             [
              0,
              "#0d0887"
             ],
             [
              0.1111111111111111,
              "#46039f"
             ],
             [
              0.2222222222222222,
              "#7201a8"
             ],
             [
              0.3333333333333333,
              "#9c179e"
             ],
             [
              0.4444444444444444,
              "#bd3786"
             ],
             [
              0.5555555555555556,
              "#d8576b"
             ],
             [
              0.6666666666666666,
              "#ed7953"
             ],
             [
              0.7777777777777778,
              "#fb9f3a"
             ],
             [
              0.8888888888888888,
              "#fdca26"
             ],
             [
              1,
              "#f0f921"
             ]
            ],
            "type": "histogram2d"
           }
          ],
          "histogram2dcontour": [
           {
            "colorbar": {
             "outlinewidth": 0,
             "ticks": ""
            },
            "colorscale": [
             [
              0,
              "#0d0887"
             ],
             [
              0.1111111111111111,
              "#46039f"
             ],
             [
              0.2222222222222222,
              "#7201a8"
             ],
             [
              0.3333333333333333,
              "#9c179e"
             ],
             [
              0.4444444444444444,
              "#bd3786"
             ],
             [
              0.5555555555555556,
              "#d8576b"
             ],
             [
              0.6666666666666666,
              "#ed7953"
             ],
             [
              0.7777777777777778,
              "#fb9f3a"
             ],
             [
              0.8888888888888888,
              "#fdca26"
             ],
             [
              1,
              "#f0f921"
             ]
            ],
            "type": "histogram2dcontour"
           }
          ],
          "mesh3d": [
           {
            "colorbar": {
             "outlinewidth": 0,
             "ticks": ""
            },
            "type": "mesh3d"
           }
          ],
          "parcoords": [
           {
            "line": {
             "colorbar": {
              "outlinewidth": 0,
              "ticks": ""
             }
            },
            "type": "parcoords"
           }
          ],
          "pie": [
           {
            "automargin": true,
            "type": "pie"
           }
          ],
          "scatter": [
           {
            "marker": {
             "colorbar": {
              "outlinewidth": 0,
              "ticks": ""
             }
            },
            "type": "scatter"
           }
          ],
          "scatter3d": [
           {
            "line": {
             "colorbar": {
              "outlinewidth": 0,
              "ticks": ""
             }
            },
            "marker": {
             "colorbar": {
              "outlinewidth": 0,
              "ticks": ""
             }
            },
            "type": "scatter3d"
           }
          ],
          "scattercarpet": [
           {
            "marker": {
             "colorbar": {
              "outlinewidth": 0,
              "ticks": ""
             }
            },
            "type": "scattercarpet"
           }
          ],
          "scattergeo": [
           {
            "marker": {
             "colorbar": {
              "outlinewidth": 0,
              "ticks": ""
             }
            },
            "type": "scattergeo"
           }
          ],
          "scattergl": [
           {
            "marker": {
             "colorbar": {
              "outlinewidth": 0,
              "ticks": ""
             }
            },
            "type": "scattergl"
           }
          ],
          "scattermapbox": [
           {
            "marker": {
             "colorbar": {
              "outlinewidth": 0,
              "ticks": ""
             }
            },
            "type": "scattermapbox"
           }
          ],
          "scatterpolar": [
           {
            "marker": {
             "colorbar": {
              "outlinewidth": 0,
              "ticks": ""
             }
            },
            "type": "scatterpolar"
           }
          ],
          "scatterpolargl": [
           {
            "marker": {
             "colorbar": {
              "outlinewidth": 0,
              "ticks": ""
             }
            },
            "type": "scatterpolargl"
           }
          ],
          "scatterternary": [
           {
            "marker": {
             "colorbar": {
              "outlinewidth": 0,
              "ticks": ""
             }
            },
            "type": "scatterternary"
           }
          ],
          "surface": [
           {
            "colorbar": {
             "outlinewidth": 0,
             "ticks": ""
            },
            "colorscale": [
             [
              0,
              "#0d0887"
             ],
             [
              0.1111111111111111,
              "#46039f"
             ],
             [
              0.2222222222222222,
              "#7201a8"
             ],
             [
              0.3333333333333333,
              "#9c179e"
             ],
             [
              0.4444444444444444,
              "#bd3786"
             ],
             [
              0.5555555555555556,
              "#d8576b"
             ],
             [
              0.6666666666666666,
              "#ed7953"
             ],
             [
              0.7777777777777778,
              "#fb9f3a"
             ],
             [
              0.8888888888888888,
              "#fdca26"
             ],
             [
              1,
              "#f0f921"
             ]
            ],
            "type": "surface"
           }
          ],
          "table": [
           {
            "cells": {
             "fill": {
              "color": "#EBF0F8"
             },
             "line": {
              "color": "white"
             }
            },
            "header": {
             "fill": {
              "color": "#C8D4E3"
             },
             "line": {
              "color": "white"
             }
            },
            "type": "table"
           }
          ]
         },
         "layout": {
          "annotationdefaults": {
           "arrowcolor": "#2a3f5f",
           "arrowhead": 0,
           "arrowwidth": 1
          },
          "coloraxis": {
           "colorbar": {
            "outlinewidth": 0,
            "ticks": ""
           }
          },
          "colorscale": {
           "diverging": [
            [
             0,
             "#8e0152"
            ],
            [
             0.1,
             "#c51b7d"
            ],
            [
             0.2,
             "#de77ae"
            ],
            [
             0.3,
             "#f1b6da"
            ],
            [
             0.4,
             "#fde0ef"
            ],
            [
             0.5,
             "#f7f7f7"
            ],
            [
             0.6,
             "#e6f5d0"
            ],
            [
             0.7,
             "#b8e186"
            ],
            [
             0.8,
             "#7fbc41"
            ],
            [
             0.9,
             "#4d9221"
            ],
            [
             1,
             "#276419"
            ]
           ],
           "sequential": [
            [
             0,
             "#0d0887"
            ],
            [
             0.1111111111111111,
             "#46039f"
            ],
            [
             0.2222222222222222,
             "#7201a8"
            ],
            [
             0.3333333333333333,
             "#9c179e"
            ],
            [
             0.4444444444444444,
             "#bd3786"
            ],
            [
             0.5555555555555556,
             "#d8576b"
            ],
            [
             0.6666666666666666,
             "#ed7953"
            ],
            [
             0.7777777777777778,
             "#fb9f3a"
            ],
            [
             0.8888888888888888,
             "#fdca26"
            ],
            [
             1,
             "#f0f921"
            ]
           ],
           "sequentialminus": [
            [
             0,
             "#0d0887"
            ],
            [
             0.1111111111111111,
             "#46039f"
            ],
            [
             0.2222222222222222,
             "#7201a8"
            ],
            [
             0.3333333333333333,
             "#9c179e"
            ],
            [
             0.4444444444444444,
             "#bd3786"
            ],
            [
             0.5555555555555556,
             "#d8576b"
            ],
            [
             0.6666666666666666,
             "#ed7953"
            ],
            [
             0.7777777777777778,
             "#fb9f3a"
            ],
            [
             0.8888888888888888,
             "#fdca26"
            ],
            [
             1,
             "#f0f921"
            ]
           ]
          },
          "colorway": [
           "#636efa",
           "#EF553B",
           "#00cc96",
           "#ab63fa",
           "#FFA15A",
           "#19d3f3",
           "#FF6692",
           "#B6E880",
           "#FF97FF",
           "#FECB52"
          ],
          "font": {
           "color": "#2a3f5f"
          },
          "geo": {
           "bgcolor": "white",
           "lakecolor": "white",
           "landcolor": "#E5ECF6",
           "showlakes": true,
           "showland": true,
           "subunitcolor": "white"
          },
          "hoverlabel": {
           "align": "left"
          },
          "hovermode": "closest",
          "mapbox": {
           "style": "light"
          },
          "paper_bgcolor": "white",
          "plot_bgcolor": "#E5ECF6",
          "polar": {
           "angularaxis": {
            "gridcolor": "white",
            "linecolor": "white",
            "ticks": ""
           },
           "bgcolor": "#E5ECF6",
           "radialaxis": {
            "gridcolor": "white",
            "linecolor": "white",
            "ticks": ""
           }
          },
          "scene": {
           "xaxis": {
            "backgroundcolor": "#E5ECF6",
            "gridcolor": "white",
            "gridwidth": 2,
            "linecolor": "white",
            "showbackground": true,
            "ticks": "",
            "zerolinecolor": "white"
           },
           "yaxis": {
            "backgroundcolor": "#E5ECF6",
            "gridcolor": "white",
            "gridwidth": 2,
            "linecolor": "white",
            "showbackground": true,
            "ticks": "",
            "zerolinecolor": "white"
           },
           "zaxis": {
            "backgroundcolor": "#E5ECF6",
            "gridcolor": "white",
            "gridwidth": 2,
            "linecolor": "white",
            "showbackground": true,
            "ticks": "",
            "zerolinecolor": "white"
           }
          },
          "shapedefaults": {
           "line": {
            "color": "#2a3f5f"
           }
          },
          "ternary": {
           "aaxis": {
            "gridcolor": "white",
            "linecolor": "white",
            "ticks": ""
           },
           "baxis": {
            "gridcolor": "white",
            "linecolor": "white",
            "ticks": ""
           },
           "bgcolor": "#E5ECF6",
           "caxis": {
            "gridcolor": "white",
            "linecolor": "white",
            "ticks": ""
           }
          },
          "title": {
           "x": 0.05
          },
          "xaxis": {
           "automargin": true,
           "gridcolor": "white",
           "linecolor": "white",
           "ticks": "",
           "title": {
            "standoff": 15
           },
           "zerolinecolor": "white",
           "zerolinewidth": 2
          },
          "yaxis": {
           "automargin": true,
           "gridcolor": "white",
           "linecolor": "white",
           "ticks": "",
           "title": {
            "standoff": 15
           },
           "zerolinecolor": "white",
           "zerolinewidth": 2
          }
         }
        },
        "title": {
         "text": "Top Neighborhoods with the Highest PM 2.5 levels in Los Angeles"
        },
        "xaxis": {
         "anchor": "y",
         "domain": [
          0,
          1
         ],
         "title": {
          "text": "neighborhood"
         }
        },
        "yaxis": {
         "anchor": "x",
         "domain": [
          0,
          1
         ],
         "title": {
          "text": "PM 2.5"
         }
        }
       }
      },
      "text/html": [
       "<div>                            <div id=\"0589f777-a258-42da-97b6-93c0bc836b8d\" class=\"plotly-graph-div\" style=\"height:525px; width:100%;\"></div>            <script type=\"text/javascript\">                require([\"plotly\"], function(Plotly) {                    window.PLOTLYENV=window.PLOTLYENV || {};                                    if (document.getElementById(\"0589f777-a258-42da-97b6-93c0bc836b8d\")) {                    Plotly.newPlot(                        \"0589f777-a258-42da-97b6-93c0bc836b8d\",                        [{\"alignmentgroup\": \"True\", \"hovertemplate\": \"neighborhood=%{x}<br>PM 2.5=%{y}<extra></extra>\", \"legendgroup\": \"\", \"marker\": {\"color\": \"#636efa\"}, \"name\": \"\", \"offsetgroup\": \"\", \"orientation\": \"v\", \"showlegend\": false, \"textposition\": \"auto\", \"type\": \"bar\", \"x\": [\"Adams-Normandie\", \"Chinatown\", \"Windsor Square\", \"University Park\", \"South Park\", \"Silver Lake\", \"Los Feliz\", \"Larchmont\", \"Jefferson Park\", \"Historic South-Central\", \"Harvard Heights\", \"Exposition Park\", \"Elysian Park\", \"Echo Park\", \"Cypress Park\", \"Lincoln Heights\", \"Arlington Heights\", \"Downtown\", \"Pico-Union\", \"East Hollywood\", \"Boyle Heights\", \"Westlake\", \"Koreatown\", \"Central-Alameda\", \"Vermont Square\", \"Elysian Valley\", \"Mount Washington\", \"Montecito Heights\", \"Hancock Park\", \"Atwater Village\", \"Griffith Park\", \"Leimert Park\", \"Hollywood\", \"Vermont-Slauson\", \"Glassell Park\", \"Mid-Wilshire\", \"Mid-City\", \"Chesterfield Square\", \"Hollywood Hills\", \"West Adams\", \"Baldwin Hills/Crenshaw\", \"El Sereno\", \"Florence\", \"Hyde Park\", \"North Hollywood\", \"Toluca Lake\", \"Playa Vista\", \"Playa del Rey\", \"Pico-Robertson\", \"Rancho Park\", \"Valley Village\", \"Manchester Square\", \"Veterans Administration\", \"West Los Angeles\", \"Ladera Heights\", \"Century City\", \"Beverly Hills\", \"Beverlywood\", \"Florence-Firestone\", \"Gramercy Park\", \"Fairfax\", \"Broadway-Manchester\", \"Harvard Park\", \"Gardena\", \"Carthay\", \"Cheviot Hills\", \"Hollywood Hills West\", \"Beverly Grove\", \"Studio City\", \"Green Meadows\", \"Palms\", \"Venice\", \"Mar Vista\", \"Vermont Knolls\", \"Vermont Vista\", \"Sawtelle\", \"Watts\", \"Del Rey\", \"Westchester\", \"Westwood\", \"Harbor Gateway\", \"Sun Valley\", \"Highland Park\", \"Eagle Rock\", \"Shadow Hills\", \"Brentwood\", \"Bel-Air\", \"Hansen Dam\", \"Beverly Crest\", \"Valley Glen\", \"Sherman Oaks\", \"Sunland\", \"Harbor City\", \"Pacoima\", \"Panorama City\", \"Wilmington\", \"San Pedro\", \"Mission Hills\", \"San Fernando\", \"Arleta\", \"Lake View Terrace\", \"Lopez/Kagel Canyons\", \"Tujunga\", \"Pacific Palisades\", \"Sylmar\", \"Van Nuys\", \"North Hills\", \"Sepulveda Basin\", \"Granada Hills\", \"Encino\", \"Canoga Park\", \"Northridge\", \"Tarzana\", \"Reseda\", \"Winnetka\", \"Woodland Hills\", \"Porter Ranch\", \"Lake Balboa\", \"West Hills\", \"Chatsworth\", \"Chatsworth Reservoir\", \"Tujunga Canyons\"], \"xaxis\": \"x\", \"y\": [12.89, 12.89, 12.89, 12.89, 12.89, 12.89, 12.89, 12.89, 12.89, 12.89, 12.89, 12.89, 12.89, 12.89, 12.89, 12.89, 12.89, 12.889999999999999, 12.889999999999999, 12.889999999999995, 12.889999999999993, 12.889999999999992, 12.889999999999992, 12.848000000000003, 12.843333333333334, 12.75, 12.68, 12.53, 12.47, 12.47, 12.47, 12.47, 12.412727272727274, 12.364999999999998, 12.35, 12.317272727272725, 12.200000000000003, 12.190000000000003, 12.19, 12.19, 12.17, 12.164545454545454, 12.114615384615385, 12.091999999999999, 12.050000000000004, 12.050000000000002, 12.05, 12.05, 12.05, 12.05, 12.05, 12.05, 12.05, 12.05, 12.05, 12.05, 12.05, 12.05, 12.05, 12.05, 12.05, 12.05, 12.05, 12.05, 12.05, 12.05, 12.05, 12.049999999999999, 12.049999999999999, 12.049999999999999, 12.049999999999999, 12.049999999999999, 12.049999999999999, 12.049999999999999, 12.049999999999999, 12.049999999999999, 12.049999999999999, 12.049999999999999, 12.049999999999999, 12.01769230769231, 11.997499999999999, 11.966000000000005, 11.960000000000003, 11.84, 11.798000000000002, 11.672, 11.63, 11.63, 11.63, 11.602000000000002, 11.373333333333337, 11.350000000000001, 11.270000000000001, 11.254210526315793, 11.210000000000004, 11.210000000000004, 11.210000000000004, 11.21, 11.21, 11.21, 11.21, 11.21, 11.209999999999999, 11.150000000000002, 11.140000000000004, 11.129230769230771, 11.030000000000003, 10.79, 10.621999999999998, 10.59909090909091, 10.370000000000001, 10.370000000000001, 10.370000000000001, 10.370000000000001, 10.370000000000001, 10.370000000000001, 10.37, 10.37, 10.332316605454546, 10.256949816363637, 9.95548266, 8.69794377], \"yaxis\": \"y\"}],                        {\"barmode\": \"relative\", \"legend\": {\"tracegroupgap\": 0}, \"template\": {\"data\": {\"bar\": [{\"error_x\": {\"color\": \"#2a3f5f\"}, \"error_y\": {\"color\": \"#2a3f5f\"}, \"marker\": {\"line\": {\"color\": \"#E5ECF6\", \"width\": 0.5}}, \"type\": \"bar\"}], \"barpolar\": [{\"marker\": {\"line\": {\"color\": \"#E5ECF6\", \"width\": 0.5}}, \"type\": \"barpolar\"}], \"carpet\": [{\"aaxis\": {\"endlinecolor\": \"#2a3f5f\", \"gridcolor\": \"white\", \"linecolor\": \"white\", \"minorgridcolor\": \"white\", \"startlinecolor\": \"#2a3f5f\"}, \"baxis\": {\"endlinecolor\": \"#2a3f5f\", \"gridcolor\": \"white\", \"linecolor\": \"white\", \"minorgridcolor\": \"white\", \"startlinecolor\": \"#2a3f5f\"}, \"type\": \"carpet\"}], \"choropleth\": [{\"colorbar\": {\"outlinewidth\": 0, \"ticks\": \"\"}, \"type\": \"choropleth\"}], \"contour\": [{\"colorbar\": {\"outlinewidth\": 0, \"ticks\": \"\"}, \"colorscale\": [[0.0, \"#0d0887\"], [0.1111111111111111, \"#46039f\"], [0.2222222222222222, \"#7201a8\"], [0.3333333333333333, \"#9c179e\"], [0.4444444444444444, \"#bd3786\"], [0.5555555555555556, \"#d8576b\"], [0.6666666666666666, \"#ed7953\"], [0.7777777777777778, \"#fb9f3a\"], [0.8888888888888888, \"#fdca26\"], [1.0, \"#f0f921\"]], \"type\": \"contour\"}], \"contourcarpet\": [{\"colorbar\": {\"outlinewidth\": 0, \"ticks\": \"\"}, \"type\": \"contourcarpet\"}], \"heatmap\": [{\"colorbar\": {\"outlinewidth\": 0, \"ticks\": \"\"}, \"colorscale\": [[0.0, \"#0d0887\"], [0.1111111111111111, \"#46039f\"], [0.2222222222222222, \"#7201a8\"], [0.3333333333333333, \"#9c179e\"], [0.4444444444444444, \"#bd3786\"], [0.5555555555555556, \"#d8576b\"], [0.6666666666666666, \"#ed7953\"], [0.7777777777777778, \"#fb9f3a\"], [0.8888888888888888, \"#fdca26\"], [1.0, \"#f0f921\"]], \"type\": \"heatmap\"}], \"heatmapgl\": [{\"colorbar\": {\"outlinewidth\": 0, \"ticks\": \"\"}, \"colorscale\": [[0.0, \"#0d0887\"], [0.1111111111111111, \"#46039f\"], [0.2222222222222222, \"#7201a8\"], [0.3333333333333333, \"#9c179e\"], [0.4444444444444444, \"#bd3786\"], [0.5555555555555556, \"#d8576b\"], [0.6666666666666666, \"#ed7953\"], [0.7777777777777778, \"#fb9f3a\"], [0.8888888888888888, \"#fdca26\"], [1.0, \"#f0f921\"]], \"type\": \"heatmapgl\"}], \"histogram\": [{\"marker\": {\"colorbar\": {\"outlinewidth\": 0, \"ticks\": \"\"}}, \"type\": \"histogram\"}], \"histogram2d\": [{\"colorbar\": {\"outlinewidth\": 0, \"ticks\": \"\"}, \"colorscale\": [[0.0, \"#0d0887\"], [0.1111111111111111, \"#46039f\"], [0.2222222222222222, \"#7201a8\"], [0.3333333333333333, \"#9c179e\"], [0.4444444444444444, \"#bd3786\"], [0.5555555555555556, \"#d8576b\"], [0.6666666666666666, \"#ed7953\"], [0.7777777777777778, \"#fb9f3a\"], [0.8888888888888888, \"#fdca26\"], [1.0, \"#f0f921\"]], \"type\": \"histogram2d\"}], \"histogram2dcontour\": [{\"colorbar\": {\"outlinewidth\": 0, \"ticks\": \"\"}, \"colorscale\": [[0.0, \"#0d0887\"], [0.1111111111111111, \"#46039f\"], [0.2222222222222222, \"#7201a8\"], [0.3333333333333333, \"#9c179e\"], [0.4444444444444444, \"#bd3786\"], [0.5555555555555556, \"#d8576b\"], [0.6666666666666666, \"#ed7953\"], [0.7777777777777778, \"#fb9f3a\"], [0.8888888888888888, \"#fdca26\"], [1.0, \"#f0f921\"]], \"type\": \"histogram2dcontour\"}], \"mesh3d\": [{\"colorbar\": {\"outlinewidth\": 0, \"ticks\": \"\"}, \"type\": \"mesh3d\"}], \"parcoords\": [{\"line\": {\"colorbar\": {\"outlinewidth\": 0, \"ticks\": \"\"}}, \"type\": \"parcoords\"}], \"pie\": [{\"automargin\": true, \"type\": \"pie\"}], \"scatter\": [{\"marker\": {\"colorbar\": {\"outlinewidth\": 0, \"ticks\": \"\"}}, \"type\": \"scatter\"}], \"scatter3d\": [{\"line\": {\"colorbar\": {\"outlinewidth\": 0, \"ticks\": \"\"}}, \"marker\": {\"colorbar\": {\"outlinewidth\": 0, \"ticks\": \"\"}}, \"type\": \"scatter3d\"}], \"scattercarpet\": [{\"marker\": {\"colorbar\": {\"outlinewidth\": 0, \"ticks\": \"\"}}, \"type\": \"scattercarpet\"}], \"scattergeo\": [{\"marker\": {\"colorbar\": {\"outlinewidth\": 0, \"ticks\": \"\"}}, \"type\": \"scattergeo\"}], \"scattergl\": [{\"marker\": {\"colorbar\": {\"outlinewidth\": 0, \"ticks\": \"\"}}, \"type\": \"scattergl\"}], \"scattermapbox\": [{\"marker\": {\"colorbar\": {\"outlinewidth\": 0, \"ticks\": \"\"}}, \"type\": \"scattermapbox\"}], \"scatterpolar\": [{\"marker\": {\"colorbar\": {\"outlinewidth\": 0, \"ticks\": \"\"}}, \"type\": \"scatterpolar\"}], \"scatterpolargl\": [{\"marker\": {\"colorbar\": {\"outlinewidth\": 0, \"ticks\": \"\"}}, \"type\": \"scatterpolargl\"}], \"scatterternary\": [{\"marker\": {\"colorbar\": {\"outlinewidth\": 0, \"ticks\": \"\"}}, \"type\": \"scatterternary\"}], \"surface\": [{\"colorbar\": {\"outlinewidth\": 0, \"ticks\": \"\"}, \"colorscale\": [[0.0, \"#0d0887\"], [0.1111111111111111, \"#46039f\"], [0.2222222222222222, \"#7201a8\"], [0.3333333333333333, \"#9c179e\"], [0.4444444444444444, \"#bd3786\"], [0.5555555555555556, \"#d8576b\"], [0.6666666666666666, \"#ed7953\"], [0.7777777777777778, \"#fb9f3a\"], [0.8888888888888888, \"#fdca26\"], [1.0, \"#f0f921\"]], \"type\": \"surface\"}], \"table\": [{\"cells\": {\"fill\": {\"color\": \"#EBF0F8\"}, \"line\": {\"color\": \"white\"}}, \"header\": {\"fill\": {\"color\": \"#C8D4E3\"}, \"line\": {\"color\": \"white\"}}, \"type\": \"table\"}]}, \"layout\": {\"annotationdefaults\": {\"arrowcolor\": \"#2a3f5f\", \"arrowhead\": 0, \"arrowwidth\": 1}, \"coloraxis\": {\"colorbar\": {\"outlinewidth\": 0, \"ticks\": \"\"}}, \"colorscale\": {\"diverging\": [[0, \"#8e0152\"], [0.1, \"#c51b7d\"], [0.2, \"#de77ae\"], [0.3, \"#f1b6da\"], [0.4, \"#fde0ef\"], [0.5, \"#f7f7f7\"], [0.6, \"#e6f5d0\"], [0.7, \"#b8e186\"], [0.8, \"#7fbc41\"], [0.9, \"#4d9221\"], [1, \"#276419\"]], \"sequential\": [[0.0, \"#0d0887\"], [0.1111111111111111, \"#46039f\"], [0.2222222222222222, \"#7201a8\"], [0.3333333333333333, \"#9c179e\"], [0.4444444444444444, \"#bd3786\"], [0.5555555555555556, \"#d8576b\"], [0.6666666666666666, \"#ed7953\"], [0.7777777777777778, \"#fb9f3a\"], [0.8888888888888888, \"#fdca26\"], [1.0, \"#f0f921\"]], \"sequentialminus\": [[0.0, \"#0d0887\"], [0.1111111111111111, \"#46039f\"], [0.2222222222222222, \"#7201a8\"], [0.3333333333333333, \"#9c179e\"], [0.4444444444444444, \"#bd3786\"], [0.5555555555555556, \"#d8576b\"], [0.6666666666666666, \"#ed7953\"], [0.7777777777777778, \"#fb9f3a\"], [0.8888888888888888, \"#fdca26\"], [1.0, \"#f0f921\"]]}, \"colorway\": [\"#636efa\", \"#EF553B\", \"#00cc96\", \"#ab63fa\", \"#FFA15A\", \"#19d3f3\", \"#FF6692\", \"#B6E880\", \"#FF97FF\", \"#FECB52\"], \"font\": {\"color\": \"#2a3f5f\"}, \"geo\": {\"bgcolor\": \"white\", \"lakecolor\": \"white\", \"landcolor\": \"#E5ECF6\", \"showlakes\": true, \"showland\": true, \"subunitcolor\": \"white\"}, \"hoverlabel\": {\"align\": \"left\"}, \"hovermode\": \"closest\", \"mapbox\": {\"style\": \"light\"}, \"paper_bgcolor\": \"white\", \"plot_bgcolor\": \"#E5ECF6\", \"polar\": {\"angularaxis\": {\"gridcolor\": \"white\", \"linecolor\": \"white\", \"ticks\": \"\"}, \"bgcolor\": \"#E5ECF6\", \"radialaxis\": {\"gridcolor\": \"white\", \"linecolor\": \"white\", \"ticks\": \"\"}}, \"scene\": {\"xaxis\": {\"backgroundcolor\": \"#E5ECF6\", \"gridcolor\": \"white\", \"gridwidth\": 2, \"linecolor\": \"white\", \"showbackground\": true, \"ticks\": \"\", \"zerolinecolor\": \"white\"}, \"yaxis\": {\"backgroundcolor\": \"#E5ECF6\", \"gridcolor\": \"white\", \"gridwidth\": 2, \"linecolor\": \"white\", \"showbackground\": true, \"ticks\": \"\", \"zerolinecolor\": \"white\"}, \"zaxis\": {\"backgroundcolor\": \"#E5ECF6\", \"gridcolor\": \"white\", \"gridwidth\": 2, \"linecolor\": \"white\", \"showbackground\": true, \"ticks\": \"\", \"zerolinecolor\": \"white\"}}, \"shapedefaults\": {\"line\": {\"color\": \"#2a3f5f\"}}, \"ternary\": {\"aaxis\": {\"gridcolor\": \"white\", \"linecolor\": \"white\", \"ticks\": \"\"}, \"baxis\": {\"gridcolor\": \"white\", \"linecolor\": \"white\", \"ticks\": \"\"}, \"bgcolor\": \"#E5ECF6\", \"caxis\": {\"gridcolor\": \"white\", \"linecolor\": \"white\", \"ticks\": \"\"}}, \"title\": {\"x\": 0.05}, \"xaxis\": {\"automargin\": true, \"gridcolor\": \"white\", \"linecolor\": \"white\", \"ticks\": \"\", \"title\": {\"standoff\": 15}, \"zerolinecolor\": \"white\", \"zerolinewidth\": 2}, \"yaxis\": {\"automargin\": true, \"gridcolor\": \"white\", \"linecolor\": \"white\", \"ticks\": \"\", \"title\": {\"standoff\": 15}, \"zerolinecolor\": \"white\", \"zerolinewidth\": 2}}}, \"title\": {\"text\": \"Top Neighborhoods with the Highest PM 2.5 levels in Los Angeles\"}, \"xaxis\": {\"anchor\": \"y\", \"domain\": [0.0, 1.0], \"title\": {\"text\": \"neighborhood\"}}, \"yaxis\": {\"anchor\": \"x\", \"domain\": [0.0, 1.0], \"title\": {\"text\": \"PM 2.5\"}}},                        {\"responsive\": true}                    ).then(function(){\n",
       "                            \n",
       "var gd = document.getElementById('0589f777-a258-42da-97b6-93c0bc836b8d');\n",
       "var x = new MutationObserver(function (mutations, observer) {{\n",
       "        var display = window.getComputedStyle(gd).display;\n",
       "        if (!display || display === 'none') {{\n",
       "            console.log([gd, 'removed!']);\n",
       "            Plotly.purge(gd);\n",
       "            observer.disconnect();\n",
       "        }}\n",
       "}});\n",
       "\n",
       "// Listen for the removal of the full notebook cells\n",
       "var notebookContainer = gd.closest('#notebook-container');\n",
       "if (notebookContainer) {{\n",
       "    x.observe(notebookContainer, {childList: true});\n",
       "}}\n",
       "\n",
       "// Listen for the clearing of the current output cell\n",
       "var outputEl = gd.closest('.output');\n",
       "if (outputEl) {{\n",
       "    x.observe(outputEl, {childList: true});\n",
       "}}\n",
       "\n",
       "                        })                };                });            </script>        </div>"
      ]
     },
     "metadata": {},
     "output_type": "display_data"
    }
   ],
   "source": [
    "#plotting it onto a plotly bar graph\n",
    "fig = px.bar(sort1,\n",
    "       x='neighborhood',\n",
    "       y='pm25',\n",
    "       title='Top Neighborhoods with the Highest PM 2.5 levels in Los Angeles',\n",
    "       labels={'neighborhood':'neighborhood','pm25':'PM 2.5'}\n",
    "      )\n",
    "fig.show()"
   ]
  },
  {
   "cell_type": "code",
   "execution_count": 92,
   "metadata": {},
   "outputs": [],
   "source": [
    "#saving the above\n",
    "fig.write_html(\"highpm.html\")"
   ]
  },
  {
   "cell_type": "code",
   "execution_count": 93,
   "metadata": {
    "scrolled": true
   },
   "outputs": [
    {
     "data": {
      "text/html": [
       "<div>\n",
       "<style scoped>\n",
       "    .dataframe tbody tr th:only-of-type {\n",
       "        vertical-align: middle;\n",
       "    }\n",
       "\n",
       "    .dataframe tbody tr th {\n",
       "        vertical-align: top;\n",
       "    }\n",
       "\n",
       "    .dataframe thead th {\n",
       "        text-align: right;\n",
       "    }\n",
       "</style>\n",
       "<table border=\"1\" class=\"dataframe\">\n",
       "  <thead>\n",
       "    <tr style=\"text-align: right;\">\n",
       "      <th></th>\n",
       "      <th>neighborhood</th>\n",
       "      <th>pm25</th>\n",
       "    </tr>\n",
       "  </thead>\n",
       "  <tbody>\n",
       "    <tr>\n",
       "      <th>100</th>\n",
       "      <td>Tujunga Canyons</td>\n",
       "      <td>8.697944</td>\n",
       "    </tr>\n",
       "    <tr>\n",
       "      <th>18</th>\n",
       "      <td>Chatsworth Reservoir</td>\n",
       "      <td>9.955483</td>\n",
       "    </tr>\n",
       "    <tr>\n",
       "      <th>17</th>\n",
       "      <td>Chatsworth</td>\n",
       "      <td>10.256950</td>\n",
       "    </tr>\n",
       "    <tr>\n",
       "      <th>113</th>\n",
       "      <td>West Hills</td>\n",
       "      <td>10.332317</td>\n",
       "    </tr>\n",
       "    <tr>\n",
       "      <th>57</th>\n",
       "      <td>Lake Balboa</td>\n",
       "      <td>10.370000</td>\n",
       "    </tr>\n",
       "  </tbody>\n",
       "</table>\n",
       "</div>"
      ],
      "text/plain": [
       "             neighborhood       pm25\n",
       "100       Tujunga Canyons   8.697944\n",
       "18   Chatsworth Reservoir   9.955483\n",
       "17             Chatsworth  10.256950\n",
       "113            West Hills  10.332317\n",
       "57            Lake Balboa  10.370000"
      ]
     },
     "execution_count": 93,
     "metadata": {},
     "output_type": "execute_result"
    }
   ],
   "source": [
    "#sorting data again from low to high PM \n",
    "sort2 = air.groupby('neighborhood', as_index=False)['pm25'].mean().sort_values(by='pm25',ascending=True)\n",
    "sort2.head()"
   ]
  },
  {
   "cell_type": "code",
   "execution_count": 94,
   "metadata": {},
   "outputs": [
    {
     "data": {
      "application/vnd.plotly.v1+json": {
       "config": {
        "plotlyServerURL": "https://plot.ly"
       },
       "data": [
        {
         "alignmentgroup": "True",
         "hovertemplate": "neighborhood=%{x}<br>PM 2.5=%{y}<extra></extra>",
         "legendgroup": "",
         "marker": {
          "color": "#636efa"
         },
         "name": "",
         "offsetgroup": "",
         "orientation": "v",
         "showlegend": false,
         "textposition": "auto",
         "type": "bar",
         "x": [
          "Tujunga Canyons",
          "Chatsworth Reservoir",
          "Chatsworth",
          "West Hills",
          "Lake Balboa",
          "Porter Ranch",
          "Woodland Hills",
          "Tarzana",
          "Reseda",
          "Winnetka",
          "Northridge",
          "Canoga Park",
          "Encino",
          "Granada Hills",
          "Sepulveda Basin",
          "North Hills",
          "Van Nuys",
          "Sylmar",
          "Pacific Palisades",
          "Tujunga",
          "San Fernando",
          "Lake View Terrace",
          "Arleta",
          "Mission Hills",
          "Lopez/Kagel Canyons",
          "Panorama City",
          "San Pedro",
          "Wilmington",
          "Pacoima",
          "Harbor City",
          "Sunland",
          "Sherman Oaks",
          "Valley Glen",
          "Bel-Air",
          "Beverly Crest",
          "Hansen Dam",
          "Brentwood",
          "Shadow Hills",
          "Eagle Rock",
          "Highland Park",
          "Sun Valley",
          "Harbor Gateway",
          "Westwood",
          "Studio City",
          "Vermont Vista",
          "Westchester",
          "Palms",
          "Beverly Grove",
          "Sawtelle",
          "Mar Vista",
          "Del Rey",
          "Vermont Knolls",
          "Green Meadows",
          "Venice",
          "Watts",
          "Fairfax",
          "Rancho Park",
          "Playa del Rey",
          "Playa Vista",
          "Florence-Firestone",
          "Pico-Robertson",
          "Gardena",
          "Beverly Hills",
          "Beverlywood",
          "Gramercy Park",
          "Veterans Administration",
          "Broadway-Manchester",
          "Hollywood Hills West",
          "Century City",
          "Valley Village",
          "Manchester Square",
          "Harvard Park",
          "Carthay",
          "West Los Angeles",
          "Cheviot Hills",
          "Ladera Heights",
          "Toluca Lake",
          "North Hollywood",
          "Hyde Park",
          "Florence",
          "El Sereno",
          "Baldwin Hills/Crenshaw",
          "Hollywood Hills",
          "West Adams",
          "Chesterfield Square",
          "Mid-City",
          "Mid-Wilshire",
          "Glassell Park",
          "Vermont-Slauson",
          "Hollywood",
          "Leimert Park",
          "Griffith Park",
          "Hancock Park",
          "Atwater Village",
          "Montecito Heights",
          "Mount Washington",
          "Elysian Valley",
          "Vermont Square",
          "Central-Alameda",
          "Westlake",
          "Koreatown",
          "Boyle Heights",
          "East Hollywood",
          "Downtown",
          "Pico-Union",
          "Cypress Park",
          "Arlington Heights",
          "Windsor Square",
          "Chinatown",
          "Silver Lake",
          "Elysian Park",
          "Exposition Park",
          "Harvard Heights",
          "University Park",
          "Historic South-Central",
          "Jefferson Park",
          "Larchmont",
          "Lincoln Heights",
          "Los Feliz",
          "South Park",
          "Echo Park",
          "Adams-Normandie"
         ],
         "xaxis": "x",
         "y": [
          8.69794377,
          9.95548266,
          10.256949816363637,
          10.332316605454546,
          10.37,
          10.37,
          10.370000000000001,
          10.370000000000001,
          10.370000000000001,
          10.370000000000001,
          10.370000000000001,
          10.370000000000001,
          10.59909090909091,
          10.621999999999998,
          10.79,
          11.030000000000003,
          11.129230769230771,
          11.140000000000004,
          11.150000000000002,
          11.209999999999999,
          11.21,
          11.21,
          11.21,
          11.21,
          11.21,
          11.210000000000004,
          11.210000000000004,
          11.210000000000004,
          11.254210526315793,
          11.270000000000001,
          11.350000000000001,
          11.373333333333337,
          11.602000000000002,
          11.63,
          11.63,
          11.63,
          11.672,
          11.798000000000002,
          11.84,
          11.960000000000003,
          11.966000000000005,
          11.997499999999999,
          12.01769230769231,
          12.049999999999999,
          12.049999999999999,
          12.049999999999999,
          12.049999999999999,
          12.049999999999999,
          12.049999999999999,
          12.049999999999999,
          12.049999999999999,
          12.049999999999999,
          12.049999999999999,
          12.049999999999999,
          12.049999999999999,
          12.05,
          12.05,
          12.05,
          12.05,
          12.05,
          12.05,
          12.05,
          12.05,
          12.05,
          12.05,
          12.05,
          12.05,
          12.05,
          12.05,
          12.05,
          12.05,
          12.05,
          12.05,
          12.05,
          12.05,
          12.05,
          12.050000000000002,
          12.050000000000004,
          12.091999999999999,
          12.114615384615385,
          12.164545454545454,
          12.17,
          12.19,
          12.19,
          12.190000000000003,
          12.200000000000003,
          12.317272727272725,
          12.35,
          12.364999999999998,
          12.412727272727274,
          12.47,
          12.47,
          12.47,
          12.47,
          12.53,
          12.68,
          12.75,
          12.843333333333334,
          12.848000000000003,
          12.889999999999992,
          12.889999999999992,
          12.889999999999993,
          12.889999999999995,
          12.889999999999999,
          12.889999999999999,
          12.89,
          12.89,
          12.89,
          12.89,
          12.89,
          12.89,
          12.89,
          12.89,
          12.89,
          12.89,
          12.89,
          12.89,
          12.89,
          12.89,
          12.89,
          12.89,
          12.89
         ],
         "yaxis": "y"
        }
       ],
       "layout": {
        "barmode": "relative",
        "legend": {
         "tracegroupgap": 0
        },
        "template": {
         "data": {
          "bar": [
           {
            "error_x": {
             "color": "#2a3f5f"
            },
            "error_y": {
             "color": "#2a3f5f"
            },
            "marker": {
             "line": {
              "color": "#E5ECF6",
              "width": 0.5
             }
            },
            "type": "bar"
           }
          ],
          "barpolar": [
           {
            "marker": {
             "line": {
              "color": "#E5ECF6",
              "width": 0.5
             }
            },
            "type": "barpolar"
           }
          ],
          "carpet": [
           {
            "aaxis": {
             "endlinecolor": "#2a3f5f",
             "gridcolor": "white",
             "linecolor": "white",
             "minorgridcolor": "white",
             "startlinecolor": "#2a3f5f"
            },
            "baxis": {
             "endlinecolor": "#2a3f5f",
             "gridcolor": "white",
             "linecolor": "white",
             "minorgridcolor": "white",
             "startlinecolor": "#2a3f5f"
            },
            "type": "carpet"
           }
          ],
          "choropleth": [
           {
            "colorbar": {
             "outlinewidth": 0,
             "ticks": ""
            },
            "type": "choropleth"
           }
          ],
          "contour": [
           {
            "colorbar": {
             "outlinewidth": 0,
             "ticks": ""
            },
            "colorscale": [
             [
              0,
              "#0d0887"
             ],
             [
              0.1111111111111111,
              "#46039f"
             ],
             [
              0.2222222222222222,
              "#7201a8"
             ],
             [
              0.3333333333333333,
              "#9c179e"
             ],
             [
              0.4444444444444444,
              "#bd3786"
             ],
             [
              0.5555555555555556,
              "#d8576b"
             ],
             [
              0.6666666666666666,
              "#ed7953"
             ],
             [
              0.7777777777777778,
              "#fb9f3a"
             ],
             [
              0.8888888888888888,
              "#fdca26"
             ],
             [
              1,
              "#f0f921"
             ]
            ],
            "type": "contour"
           }
          ],
          "contourcarpet": [
           {
            "colorbar": {
             "outlinewidth": 0,
             "ticks": ""
            },
            "type": "contourcarpet"
           }
          ],
          "heatmap": [
           {
            "colorbar": {
             "outlinewidth": 0,
             "ticks": ""
            },
            "colorscale": [
             [
              0,
              "#0d0887"
             ],
             [
              0.1111111111111111,
              "#46039f"
             ],
             [
              0.2222222222222222,
              "#7201a8"
             ],
             [
              0.3333333333333333,
              "#9c179e"
             ],
             [
              0.4444444444444444,
              "#bd3786"
             ],
             [
              0.5555555555555556,
              "#d8576b"
             ],
             [
              0.6666666666666666,
              "#ed7953"
             ],
             [
              0.7777777777777778,
              "#fb9f3a"
             ],
             [
              0.8888888888888888,
              "#fdca26"
             ],
             [
              1,
              "#f0f921"
             ]
            ],
            "type": "heatmap"
           }
          ],
          "heatmapgl": [
           {
            "colorbar": {
             "outlinewidth": 0,
             "ticks": ""
            },
            "colorscale": [
             [
              0,
              "#0d0887"
             ],
             [
              0.1111111111111111,
              "#46039f"
             ],
             [
              0.2222222222222222,
              "#7201a8"
             ],
             [
              0.3333333333333333,
              "#9c179e"
             ],
             [
              0.4444444444444444,
              "#bd3786"
             ],
             [
              0.5555555555555556,
              "#d8576b"
             ],
             [
              0.6666666666666666,
              "#ed7953"
             ],
             [
              0.7777777777777778,
              "#fb9f3a"
             ],
             [
              0.8888888888888888,
              "#fdca26"
             ],
             [
              1,
              "#f0f921"
             ]
            ],
            "type": "heatmapgl"
           }
          ],
          "histogram": [
           {
            "marker": {
             "colorbar": {
              "outlinewidth": 0,
              "ticks": ""
             }
            },
            "type": "histogram"
           }
          ],
          "histogram2d": [
           {
            "colorbar": {
             "outlinewidth": 0,
             "ticks": ""
            },
            "colorscale": [
             [
              0,
              "#0d0887"
             ],
             [
              0.1111111111111111,
              "#46039f"
             ],
             [
              0.2222222222222222,
              "#7201a8"
             ],
             [
              0.3333333333333333,
              "#9c179e"
             ],
             [
              0.4444444444444444,
              "#bd3786"
             ],
             [
              0.5555555555555556,
              "#d8576b"
             ],
             [
              0.6666666666666666,
              "#ed7953"
             ],
             [
              0.7777777777777778,
              "#fb9f3a"
             ],
             [
              0.8888888888888888,
              "#fdca26"
             ],
             [
              1,
              "#f0f921"
             ]
            ],
            "type": "histogram2d"
           }
          ],
          "histogram2dcontour": [
           {
            "colorbar": {
             "outlinewidth": 0,
             "ticks": ""
            },
            "colorscale": [
             [
              0,
              "#0d0887"
             ],
             [
              0.1111111111111111,
              "#46039f"
             ],
             [
              0.2222222222222222,
              "#7201a8"
             ],
             [
              0.3333333333333333,
              "#9c179e"
             ],
             [
              0.4444444444444444,
              "#bd3786"
             ],
             [
              0.5555555555555556,
              "#d8576b"
             ],
             [
              0.6666666666666666,
              "#ed7953"
             ],
             [
              0.7777777777777778,
              "#fb9f3a"
             ],
             [
              0.8888888888888888,
              "#fdca26"
             ],
             [
              1,
              "#f0f921"
             ]
            ],
            "type": "histogram2dcontour"
           }
          ],
          "mesh3d": [
           {
            "colorbar": {
             "outlinewidth": 0,
             "ticks": ""
            },
            "type": "mesh3d"
           }
          ],
          "parcoords": [
           {
            "line": {
             "colorbar": {
              "outlinewidth": 0,
              "ticks": ""
             }
            },
            "type": "parcoords"
           }
          ],
          "pie": [
           {
            "automargin": true,
            "type": "pie"
           }
          ],
          "scatter": [
           {
            "marker": {
             "colorbar": {
              "outlinewidth": 0,
              "ticks": ""
             }
            },
            "type": "scatter"
           }
          ],
          "scatter3d": [
           {
            "line": {
             "colorbar": {
              "outlinewidth": 0,
              "ticks": ""
             }
            },
            "marker": {
             "colorbar": {
              "outlinewidth": 0,
              "ticks": ""
             }
            },
            "type": "scatter3d"
           }
          ],
          "scattercarpet": [
           {
            "marker": {
             "colorbar": {
              "outlinewidth": 0,
              "ticks": ""
             }
            },
            "type": "scattercarpet"
           }
          ],
          "scattergeo": [
           {
            "marker": {
             "colorbar": {
              "outlinewidth": 0,
              "ticks": ""
             }
            },
            "type": "scattergeo"
           }
          ],
          "scattergl": [
           {
            "marker": {
             "colorbar": {
              "outlinewidth": 0,
              "ticks": ""
             }
            },
            "type": "scattergl"
           }
          ],
          "scattermapbox": [
           {
            "marker": {
             "colorbar": {
              "outlinewidth": 0,
              "ticks": ""
             }
            },
            "type": "scattermapbox"
           }
          ],
          "scatterpolar": [
           {
            "marker": {
             "colorbar": {
              "outlinewidth": 0,
              "ticks": ""
             }
            },
            "type": "scatterpolar"
           }
          ],
          "scatterpolargl": [
           {
            "marker": {
             "colorbar": {
              "outlinewidth": 0,
              "ticks": ""
             }
            },
            "type": "scatterpolargl"
           }
          ],
          "scatterternary": [
           {
            "marker": {
             "colorbar": {
              "outlinewidth": 0,
              "ticks": ""
             }
            },
            "type": "scatterternary"
           }
          ],
          "surface": [
           {
            "colorbar": {
             "outlinewidth": 0,
             "ticks": ""
            },
            "colorscale": [
             [
              0,
              "#0d0887"
             ],
             [
              0.1111111111111111,
              "#46039f"
             ],
             [
              0.2222222222222222,
              "#7201a8"
             ],
             [
              0.3333333333333333,
              "#9c179e"
             ],
             [
              0.4444444444444444,
              "#bd3786"
             ],
             [
              0.5555555555555556,
              "#d8576b"
             ],
             [
              0.6666666666666666,
              "#ed7953"
             ],
             [
              0.7777777777777778,
              "#fb9f3a"
             ],
             [
              0.8888888888888888,
              "#fdca26"
             ],
             [
              1,
              "#f0f921"
             ]
            ],
            "type": "surface"
           }
          ],
          "table": [
           {
            "cells": {
             "fill": {
              "color": "#EBF0F8"
             },
             "line": {
              "color": "white"
             }
            },
            "header": {
             "fill": {
              "color": "#C8D4E3"
             },
             "line": {
              "color": "white"
             }
            },
            "type": "table"
           }
          ]
         },
         "layout": {
          "annotationdefaults": {
           "arrowcolor": "#2a3f5f",
           "arrowhead": 0,
           "arrowwidth": 1
          },
          "coloraxis": {
           "colorbar": {
            "outlinewidth": 0,
            "ticks": ""
           }
          },
          "colorscale": {
           "diverging": [
            [
             0,
             "#8e0152"
            ],
            [
             0.1,
             "#c51b7d"
            ],
            [
             0.2,
             "#de77ae"
            ],
            [
             0.3,
             "#f1b6da"
            ],
            [
             0.4,
             "#fde0ef"
            ],
            [
             0.5,
             "#f7f7f7"
            ],
            [
             0.6,
             "#e6f5d0"
            ],
            [
             0.7,
             "#b8e186"
            ],
            [
             0.8,
             "#7fbc41"
            ],
            [
             0.9,
             "#4d9221"
            ],
            [
             1,
             "#276419"
            ]
           ],
           "sequential": [
            [
             0,
             "#0d0887"
            ],
            [
             0.1111111111111111,
             "#46039f"
            ],
            [
             0.2222222222222222,
             "#7201a8"
            ],
            [
             0.3333333333333333,
             "#9c179e"
            ],
            [
             0.4444444444444444,
             "#bd3786"
            ],
            [
             0.5555555555555556,
             "#d8576b"
            ],
            [
             0.6666666666666666,
             "#ed7953"
            ],
            [
             0.7777777777777778,
             "#fb9f3a"
            ],
            [
             0.8888888888888888,
             "#fdca26"
            ],
            [
             1,
             "#f0f921"
            ]
           ],
           "sequentialminus": [
            [
             0,
             "#0d0887"
            ],
            [
             0.1111111111111111,
             "#46039f"
            ],
            [
             0.2222222222222222,
             "#7201a8"
            ],
            [
             0.3333333333333333,
             "#9c179e"
            ],
            [
             0.4444444444444444,
             "#bd3786"
            ],
            [
             0.5555555555555556,
             "#d8576b"
            ],
            [
             0.6666666666666666,
             "#ed7953"
            ],
            [
             0.7777777777777778,
             "#fb9f3a"
            ],
            [
             0.8888888888888888,
             "#fdca26"
            ],
            [
             1,
             "#f0f921"
            ]
           ]
          },
          "colorway": [
           "#636efa",
           "#EF553B",
           "#00cc96",
           "#ab63fa",
           "#FFA15A",
           "#19d3f3",
           "#FF6692",
           "#B6E880",
           "#FF97FF",
           "#FECB52"
          ],
          "font": {
           "color": "#2a3f5f"
          },
          "geo": {
           "bgcolor": "white",
           "lakecolor": "white",
           "landcolor": "#E5ECF6",
           "showlakes": true,
           "showland": true,
           "subunitcolor": "white"
          },
          "hoverlabel": {
           "align": "left"
          },
          "hovermode": "closest",
          "mapbox": {
           "style": "light"
          },
          "paper_bgcolor": "white",
          "plot_bgcolor": "#E5ECF6",
          "polar": {
           "angularaxis": {
            "gridcolor": "white",
            "linecolor": "white",
            "ticks": ""
           },
           "bgcolor": "#E5ECF6",
           "radialaxis": {
            "gridcolor": "white",
            "linecolor": "white",
            "ticks": ""
           }
          },
          "scene": {
           "xaxis": {
            "backgroundcolor": "#E5ECF6",
            "gridcolor": "white",
            "gridwidth": 2,
            "linecolor": "white",
            "showbackground": true,
            "ticks": "",
            "zerolinecolor": "white"
           },
           "yaxis": {
            "backgroundcolor": "#E5ECF6",
            "gridcolor": "white",
            "gridwidth": 2,
            "linecolor": "white",
            "showbackground": true,
            "ticks": "",
            "zerolinecolor": "white"
           },
           "zaxis": {
            "backgroundcolor": "#E5ECF6",
            "gridcolor": "white",
            "gridwidth": 2,
            "linecolor": "white",
            "showbackground": true,
            "ticks": "",
            "zerolinecolor": "white"
           }
          },
          "shapedefaults": {
           "line": {
            "color": "#2a3f5f"
           }
          },
          "ternary": {
           "aaxis": {
            "gridcolor": "white",
            "linecolor": "white",
            "ticks": ""
           },
           "baxis": {
            "gridcolor": "white",
            "linecolor": "white",
            "ticks": ""
           },
           "bgcolor": "#E5ECF6",
           "caxis": {
            "gridcolor": "white",
            "linecolor": "white",
            "ticks": ""
           }
          },
          "title": {
           "x": 0.05
          },
          "xaxis": {
           "automargin": true,
           "gridcolor": "white",
           "linecolor": "white",
           "ticks": "",
           "title": {
            "standoff": 15
           },
           "zerolinecolor": "white",
           "zerolinewidth": 2
          },
          "yaxis": {
           "automargin": true,
           "gridcolor": "white",
           "linecolor": "white",
           "ticks": "",
           "title": {
            "standoff": 15
           },
           "zerolinecolor": "white",
           "zerolinewidth": 2
          }
         }
        },
        "title": {
         "text": "Top Neighborhoods with the Lowest PM 2.5 levels in Los Angeles"
        },
        "xaxis": {
         "anchor": "y",
         "domain": [
          0,
          1
         ],
         "title": {
          "text": "neighborhood"
         }
        },
        "yaxis": {
         "anchor": "x",
         "domain": [
          0,
          1
         ],
         "title": {
          "text": "PM 2.5"
         }
        }
       }
      },
      "text/html": [
       "<div>                            <div id=\"5f11b65d-70d1-44d5-9b73-f94e0bb07837\" class=\"plotly-graph-div\" style=\"height:525px; width:100%;\"></div>            <script type=\"text/javascript\">                require([\"plotly\"], function(Plotly) {                    window.PLOTLYENV=window.PLOTLYENV || {};                                    if (document.getElementById(\"5f11b65d-70d1-44d5-9b73-f94e0bb07837\")) {                    Plotly.newPlot(                        \"5f11b65d-70d1-44d5-9b73-f94e0bb07837\",                        [{\"alignmentgroup\": \"True\", \"hovertemplate\": \"neighborhood=%{x}<br>PM 2.5=%{y}<extra></extra>\", \"legendgroup\": \"\", \"marker\": {\"color\": \"#636efa\"}, \"name\": \"\", \"offsetgroup\": \"\", \"orientation\": \"v\", \"showlegend\": false, \"textposition\": \"auto\", \"type\": \"bar\", \"x\": [\"Tujunga Canyons\", \"Chatsworth Reservoir\", \"Chatsworth\", \"West Hills\", \"Lake Balboa\", \"Porter Ranch\", \"Woodland Hills\", \"Tarzana\", \"Reseda\", \"Winnetka\", \"Northridge\", \"Canoga Park\", \"Encino\", \"Granada Hills\", \"Sepulveda Basin\", \"North Hills\", \"Van Nuys\", \"Sylmar\", \"Pacific Palisades\", \"Tujunga\", \"San Fernando\", \"Lake View Terrace\", \"Arleta\", \"Mission Hills\", \"Lopez/Kagel Canyons\", \"Panorama City\", \"San Pedro\", \"Wilmington\", \"Pacoima\", \"Harbor City\", \"Sunland\", \"Sherman Oaks\", \"Valley Glen\", \"Bel-Air\", \"Beverly Crest\", \"Hansen Dam\", \"Brentwood\", \"Shadow Hills\", \"Eagle Rock\", \"Highland Park\", \"Sun Valley\", \"Harbor Gateway\", \"Westwood\", \"Studio City\", \"Vermont Vista\", \"Westchester\", \"Palms\", \"Beverly Grove\", \"Sawtelle\", \"Mar Vista\", \"Del Rey\", \"Vermont Knolls\", \"Green Meadows\", \"Venice\", \"Watts\", \"Fairfax\", \"Rancho Park\", \"Playa del Rey\", \"Playa Vista\", \"Florence-Firestone\", \"Pico-Robertson\", \"Gardena\", \"Beverly Hills\", \"Beverlywood\", \"Gramercy Park\", \"Veterans Administration\", \"Broadway-Manchester\", \"Hollywood Hills West\", \"Century City\", \"Valley Village\", \"Manchester Square\", \"Harvard Park\", \"Carthay\", \"West Los Angeles\", \"Cheviot Hills\", \"Ladera Heights\", \"Toluca Lake\", \"North Hollywood\", \"Hyde Park\", \"Florence\", \"El Sereno\", \"Baldwin Hills/Crenshaw\", \"Hollywood Hills\", \"West Adams\", \"Chesterfield Square\", \"Mid-City\", \"Mid-Wilshire\", \"Glassell Park\", \"Vermont-Slauson\", \"Hollywood\", \"Leimert Park\", \"Griffith Park\", \"Hancock Park\", \"Atwater Village\", \"Montecito Heights\", \"Mount Washington\", \"Elysian Valley\", \"Vermont Square\", \"Central-Alameda\", \"Westlake\", \"Koreatown\", \"Boyle Heights\", \"East Hollywood\", \"Downtown\", \"Pico-Union\", \"Cypress Park\", \"Arlington Heights\", \"Windsor Square\", \"Chinatown\", \"Silver Lake\", \"Elysian Park\", \"Exposition Park\", \"Harvard Heights\", \"University Park\", \"Historic South-Central\", \"Jefferson Park\", \"Larchmont\", \"Lincoln Heights\", \"Los Feliz\", \"South Park\", \"Echo Park\", \"Adams-Normandie\"], \"xaxis\": \"x\", \"y\": [8.69794377, 9.95548266, 10.256949816363637, 10.332316605454546, 10.37, 10.37, 10.370000000000001, 10.370000000000001, 10.370000000000001, 10.370000000000001, 10.370000000000001, 10.370000000000001, 10.59909090909091, 10.621999999999998, 10.79, 11.030000000000003, 11.129230769230771, 11.140000000000004, 11.150000000000002, 11.209999999999999, 11.21, 11.21, 11.21, 11.21, 11.21, 11.210000000000004, 11.210000000000004, 11.210000000000004, 11.254210526315793, 11.270000000000001, 11.350000000000001, 11.373333333333337, 11.602000000000002, 11.63, 11.63, 11.63, 11.672, 11.798000000000002, 11.84, 11.960000000000003, 11.966000000000005, 11.997499999999999, 12.01769230769231, 12.049999999999999, 12.049999999999999, 12.049999999999999, 12.049999999999999, 12.049999999999999, 12.049999999999999, 12.049999999999999, 12.049999999999999, 12.049999999999999, 12.049999999999999, 12.049999999999999, 12.049999999999999, 12.05, 12.05, 12.05, 12.05, 12.05, 12.05, 12.05, 12.05, 12.05, 12.05, 12.05, 12.05, 12.05, 12.05, 12.05, 12.05, 12.05, 12.05, 12.05, 12.05, 12.05, 12.050000000000002, 12.050000000000004, 12.091999999999999, 12.114615384615385, 12.164545454545454, 12.17, 12.19, 12.19, 12.190000000000003, 12.200000000000003, 12.317272727272725, 12.35, 12.364999999999998, 12.412727272727274, 12.47, 12.47, 12.47, 12.47, 12.53, 12.68, 12.75, 12.843333333333334, 12.848000000000003, 12.889999999999992, 12.889999999999992, 12.889999999999993, 12.889999999999995, 12.889999999999999, 12.889999999999999, 12.89, 12.89, 12.89, 12.89, 12.89, 12.89, 12.89, 12.89, 12.89, 12.89, 12.89, 12.89, 12.89, 12.89, 12.89, 12.89, 12.89], \"yaxis\": \"y\"}],                        {\"barmode\": \"relative\", \"legend\": {\"tracegroupgap\": 0}, \"template\": {\"data\": {\"bar\": [{\"error_x\": {\"color\": \"#2a3f5f\"}, \"error_y\": {\"color\": \"#2a3f5f\"}, \"marker\": {\"line\": {\"color\": \"#E5ECF6\", \"width\": 0.5}}, \"type\": \"bar\"}], \"barpolar\": [{\"marker\": {\"line\": {\"color\": \"#E5ECF6\", \"width\": 0.5}}, \"type\": \"barpolar\"}], \"carpet\": [{\"aaxis\": {\"endlinecolor\": \"#2a3f5f\", \"gridcolor\": \"white\", \"linecolor\": \"white\", \"minorgridcolor\": \"white\", \"startlinecolor\": \"#2a3f5f\"}, \"baxis\": {\"endlinecolor\": \"#2a3f5f\", \"gridcolor\": \"white\", \"linecolor\": \"white\", \"minorgridcolor\": \"white\", \"startlinecolor\": \"#2a3f5f\"}, \"type\": \"carpet\"}], \"choropleth\": [{\"colorbar\": {\"outlinewidth\": 0, \"ticks\": \"\"}, \"type\": \"choropleth\"}], \"contour\": [{\"colorbar\": {\"outlinewidth\": 0, \"ticks\": \"\"}, \"colorscale\": [[0.0, \"#0d0887\"], [0.1111111111111111, \"#46039f\"], [0.2222222222222222, \"#7201a8\"], [0.3333333333333333, \"#9c179e\"], [0.4444444444444444, \"#bd3786\"], [0.5555555555555556, \"#d8576b\"], [0.6666666666666666, \"#ed7953\"], [0.7777777777777778, \"#fb9f3a\"], [0.8888888888888888, \"#fdca26\"], [1.0, \"#f0f921\"]], \"type\": \"contour\"}], \"contourcarpet\": [{\"colorbar\": {\"outlinewidth\": 0, \"ticks\": \"\"}, \"type\": \"contourcarpet\"}], \"heatmap\": [{\"colorbar\": {\"outlinewidth\": 0, \"ticks\": \"\"}, \"colorscale\": [[0.0, \"#0d0887\"], [0.1111111111111111, \"#46039f\"], [0.2222222222222222, \"#7201a8\"], [0.3333333333333333, \"#9c179e\"], [0.4444444444444444, \"#bd3786\"], [0.5555555555555556, \"#d8576b\"], [0.6666666666666666, \"#ed7953\"], [0.7777777777777778, \"#fb9f3a\"], [0.8888888888888888, \"#fdca26\"], [1.0, \"#f0f921\"]], \"type\": \"heatmap\"}], \"heatmapgl\": [{\"colorbar\": {\"outlinewidth\": 0, \"ticks\": \"\"}, \"colorscale\": [[0.0, \"#0d0887\"], [0.1111111111111111, \"#46039f\"], [0.2222222222222222, \"#7201a8\"], [0.3333333333333333, \"#9c179e\"], [0.4444444444444444, \"#bd3786\"], [0.5555555555555556, \"#d8576b\"], [0.6666666666666666, \"#ed7953\"], [0.7777777777777778, \"#fb9f3a\"], [0.8888888888888888, \"#fdca26\"], [1.0, \"#f0f921\"]], \"type\": \"heatmapgl\"}], \"histogram\": [{\"marker\": {\"colorbar\": {\"outlinewidth\": 0, \"ticks\": \"\"}}, \"type\": \"histogram\"}], \"histogram2d\": [{\"colorbar\": {\"outlinewidth\": 0, \"ticks\": \"\"}, \"colorscale\": [[0.0, \"#0d0887\"], [0.1111111111111111, \"#46039f\"], [0.2222222222222222, \"#7201a8\"], [0.3333333333333333, \"#9c179e\"], [0.4444444444444444, \"#bd3786\"], [0.5555555555555556, \"#d8576b\"], [0.6666666666666666, \"#ed7953\"], [0.7777777777777778, \"#fb9f3a\"], [0.8888888888888888, \"#fdca26\"], [1.0, \"#f0f921\"]], \"type\": \"histogram2d\"}], \"histogram2dcontour\": [{\"colorbar\": {\"outlinewidth\": 0, \"ticks\": \"\"}, \"colorscale\": [[0.0, \"#0d0887\"], [0.1111111111111111, \"#46039f\"], [0.2222222222222222, \"#7201a8\"], [0.3333333333333333, \"#9c179e\"], [0.4444444444444444, \"#bd3786\"], [0.5555555555555556, \"#d8576b\"], [0.6666666666666666, \"#ed7953\"], [0.7777777777777778, \"#fb9f3a\"], [0.8888888888888888, \"#fdca26\"], [1.0, \"#f0f921\"]], \"type\": \"histogram2dcontour\"}], \"mesh3d\": [{\"colorbar\": {\"outlinewidth\": 0, \"ticks\": \"\"}, \"type\": \"mesh3d\"}], \"parcoords\": [{\"line\": {\"colorbar\": {\"outlinewidth\": 0, \"ticks\": \"\"}}, \"type\": \"parcoords\"}], \"pie\": [{\"automargin\": true, \"type\": \"pie\"}], \"scatter\": [{\"marker\": {\"colorbar\": {\"outlinewidth\": 0, \"ticks\": \"\"}}, \"type\": \"scatter\"}], \"scatter3d\": [{\"line\": {\"colorbar\": {\"outlinewidth\": 0, \"ticks\": \"\"}}, \"marker\": {\"colorbar\": {\"outlinewidth\": 0, \"ticks\": \"\"}}, \"type\": \"scatter3d\"}], \"scattercarpet\": [{\"marker\": {\"colorbar\": {\"outlinewidth\": 0, \"ticks\": \"\"}}, \"type\": \"scattercarpet\"}], \"scattergeo\": [{\"marker\": {\"colorbar\": {\"outlinewidth\": 0, \"ticks\": \"\"}}, \"type\": \"scattergeo\"}], \"scattergl\": [{\"marker\": {\"colorbar\": {\"outlinewidth\": 0, \"ticks\": \"\"}}, \"type\": \"scattergl\"}], \"scattermapbox\": [{\"marker\": {\"colorbar\": {\"outlinewidth\": 0, \"ticks\": \"\"}}, \"type\": \"scattermapbox\"}], \"scatterpolar\": [{\"marker\": {\"colorbar\": {\"outlinewidth\": 0, \"ticks\": \"\"}}, \"type\": \"scatterpolar\"}], \"scatterpolargl\": [{\"marker\": {\"colorbar\": {\"outlinewidth\": 0, \"ticks\": \"\"}}, \"type\": \"scatterpolargl\"}], \"scatterternary\": [{\"marker\": {\"colorbar\": {\"outlinewidth\": 0, \"ticks\": \"\"}}, \"type\": \"scatterternary\"}], \"surface\": [{\"colorbar\": {\"outlinewidth\": 0, \"ticks\": \"\"}, \"colorscale\": [[0.0, \"#0d0887\"], [0.1111111111111111, \"#46039f\"], [0.2222222222222222, \"#7201a8\"], [0.3333333333333333, \"#9c179e\"], [0.4444444444444444, \"#bd3786\"], [0.5555555555555556, \"#d8576b\"], [0.6666666666666666, \"#ed7953\"], [0.7777777777777778, \"#fb9f3a\"], [0.8888888888888888, \"#fdca26\"], [1.0, \"#f0f921\"]], \"type\": \"surface\"}], \"table\": [{\"cells\": {\"fill\": {\"color\": \"#EBF0F8\"}, \"line\": {\"color\": \"white\"}}, \"header\": {\"fill\": {\"color\": \"#C8D4E3\"}, \"line\": {\"color\": \"white\"}}, \"type\": \"table\"}]}, \"layout\": {\"annotationdefaults\": {\"arrowcolor\": \"#2a3f5f\", \"arrowhead\": 0, \"arrowwidth\": 1}, \"coloraxis\": {\"colorbar\": {\"outlinewidth\": 0, \"ticks\": \"\"}}, \"colorscale\": {\"diverging\": [[0, \"#8e0152\"], [0.1, \"#c51b7d\"], [0.2, \"#de77ae\"], [0.3, \"#f1b6da\"], [0.4, \"#fde0ef\"], [0.5, \"#f7f7f7\"], [0.6, \"#e6f5d0\"], [0.7, \"#b8e186\"], [0.8, \"#7fbc41\"], [0.9, \"#4d9221\"], [1, \"#276419\"]], \"sequential\": [[0.0, \"#0d0887\"], [0.1111111111111111, \"#46039f\"], [0.2222222222222222, \"#7201a8\"], [0.3333333333333333, \"#9c179e\"], [0.4444444444444444, \"#bd3786\"], [0.5555555555555556, \"#d8576b\"], [0.6666666666666666, \"#ed7953\"], [0.7777777777777778, \"#fb9f3a\"], [0.8888888888888888, \"#fdca26\"], [1.0, \"#f0f921\"]], \"sequentialminus\": [[0.0, \"#0d0887\"], [0.1111111111111111, \"#46039f\"], [0.2222222222222222, \"#7201a8\"], [0.3333333333333333, \"#9c179e\"], [0.4444444444444444, \"#bd3786\"], [0.5555555555555556, \"#d8576b\"], [0.6666666666666666, \"#ed7953\"], [0.7777777777777778, \"#fb9f3a\"], [0.8888888888888888, \"#fdca26\"], [1.0, \"#f0f921\"]]}, \"colorway\": [\"#636efa\", \"#EF553B\", \"#00cc96\", \"#ab63fa\", \"#FFA15A\", \"#19d3f3\", \"#FF6692\", \"#B6E880\", \"#FF97FF\", \"#FECB52\"], \"font\": {\"color\": \"#2a3f5f\"}, \"geo\": {\"bgcolor\": \"white\", \"lakecolor\": \"white\", \"landcolor\": \"#E5ECF6\", \"showlakes\": true, \"showland\": true, \"subunitcolor\": \"white\"}, \"hoverlabel\": {\"align\": \"left\"}, \"hovermode\": \"closest\", \"mapbox\": {\"style\": \"light\"}, \"paper_bgcolor\": \"white\", \"plot_bgcolor\": \"#E5ECF6\", \"polar\": {\"angularaxis\": {\"gridcolor\": \"white\", \"linecolor\": \"white\", \"ticks\": \"\"}, \"bgcolor\": \"#E5ECF6\", \"radialaxis\": {\"gridcolor\": \"white\", \"linecolor\": \"white\", \"ticks\": \"\"}}, \"scene\": {\"xaxis\": {\"backgroundcolor\": \"#E5ECF6\", \"gridcolor\": \"white\", \"gridwidth\": 2, \"linecolor\": \"white\", \"showbackground\": true, \"ticks\": \"\", \"zerolinecolor\": \"white\"}, \"yaxis\": {\"backgroundcolor\": \"#E5ECF6\", \"gridcolor\": \"white\", \"gridwidth\": 2, \"linecolor\": \"white\", \"showbackground\": true, \"ticks\": \"\", \"zerolinecolor\": \"white\"}, \"zaxis\": {\"backgroundcolor\": \"#E5ECF6\", \"gridcolor\": \"white\", \"gridwidth\": 2, \"linecolor\": \"white\", \"showbackground\": true, \"ticks\": \"\", \"zerolinecolor\": \"white\"}}, \"shapedefaults\": {\"line\": {\"color\": \"#2a3f5f\"}}, \"ternary\": {\"aaxis\": {\"gridcolor\": \"white\", \"linecolor\": \"white\", \"ticks\": \"\"}, \"baxis\": {\"gridcolor\": \"white\", \"linecolor\": \"white\", \"ticks\": \"\"}, \"bgcolor\": \"#E5ECF6\", \"caxis\": {\"gridcolor\": \"white\", \"linecolor\": \"white\", \"ticks\": \"\"}}, \"title\": {\"x\": 0.05}, \"xaxis\": {\"automargin\": true, \"gridcolor\": \"white\", \"linecolor\": \"white\", \"ticks\": \"\", \"title\": {\"standoff\": 15}, \"zerolinecolor\": \"white\", \"zerolinewidth\": 2}, \"yaxis\": {\"automargin\": true, \"gridcolor\": \"white\", \"linecolor\": \"white\", \"ticks\": \"\", \"title\": {\"standoff\": 15}, \"zerolinecolor\": \"white\", \"zerolinewidth\": 2}}}, \"title\": {\"text\": \"Top Neighborhoods with the Lowest PM 2.5 levels in Los Angeles\"}, \"xaxis\": {\"anchor\": \"y\", \"domain\": [0.0, 1.0], \"title\": {\"text\": \"neighborhood\"}}, \"yaxis\": {\"anchor\": \"x\", \"domain\": [0.0, 1.0], \"title\": {\"text\": \"PM 2.5\"}}},                        {\"responsive\": true}                    ).then(function(){\n",
       "                            \n",
       "var gd = document.getElementById('5f11b65d-70d1-44d5-9b73-f94e0bb07837');\n",
       "var x = new MutationObserver(function (mutations, observer) {{\n",
       "        var display = window.getComputedStyle(gd).display;\n",
       "        if (!display || display === 'none') {{\n",
       "            console.log([gd, 'removed!']);\n",
       "            Plotly.purge(gd);\n",
       "            observer.disconnect();\n",
       "        }}\n",
       "}});\n",
       "\n",
       "// Listen for the removal of the full notebook cells\n",
       "var notebookContainer = gd.closest('#notebook-container');\n",
       "if (notebookContainer) {{\n",
       "    x.observe(notebookContainer, {childList: true});\n",
       "}}\n",
       "\n",
       "// Listen for the clearing of the current output cell\n",
       "var outputEl = gd.closest('.output');\n",
       "if (outputEl) {{\n",
       "    x.observe(outputEl, {childList: true});\n",
       "}}\n",
       "\n",
       "                        })                };                });            </script>        </div>"
      ]
     },
     "metadata": {},
     "output_type": "display_data"
    }
   ],
   "source": [
    "#plotting it onto a plotly bar graph\n",
    "fig1= px.bar(sort3,\n",
    "       x='neighborhood',\n",
    "       y='pm25',\n",
    "       title='Top Neighborhoods with the Lowest PM 2.5 levels in Los Angeles',\n",
    "       labels={'neighborhood':'neighborhood','pm25':'PM 2.5'}\n",
    "      )\n",
    "fig1.show()"
   ]
  },
  {
   "cell_type": "code",
   "execution_count": 95,
   "metadata": {},
   "outputs": [],
   "source": [
    "#saving the above\n",
    "fig1.write_html(\"lowestpm.html\")"
   ]
  },
  {
   "cell_type": "code",
   "execution_count": 96,
   "metadata": {
    "scrolled": false
   },
   "outputs": [
    {
     "data": {
      "text/html": [
       "<div>\n",
       "<style scoped>\n",
       "    .dataframe tbody tr th:only-of-type {\n",
       "        vertical-align: middle;\n",
       "    }\n",
       "\n",
       "    .dataframe tbody tr th {\n",
       "        vertical-align: top;\n",
       "    }\n",
       "\n",
       "    .dataframe thead th {\n",
       "        text-align: right;\n",
       "    }\n",
       "</style>\n",
       "<table border=\"1\" class=\"dataframe\">\n",
       "  <thead>\n",
       "    <tr style=\"text-align: right;\">\n",
       "      <th></th>\n",
       "      <th>count</th>\n",
       "      <th>mean</th>\n",
       "      <th>std</th>\n",
       "      <th>min</th>\n",
       "      <th>25%</th>\n",
       "      <th>50%</th>\n",
       "      <th>75%</th>\n",
       "      <th>max</th>\n",
       "    </tr>\n",
       "    <tr>\n",
       "      <th>neighborhood</th>\n",
       "      <th></th>\n",
       "      <th></th>\n",
       "      <th></th>\n",
       "      <th></th>\n",
       "      <th></th>\n",
       "      <th></th>\n",
       "      <th></th>\n",
       "      <th></th>\n",
       "    </tr>\n",
       "  </thead>\n",
       "  <tbody>\n",
       "    <tr>\n",
       "      <th>Adams-Normandie</th>\n",
       "      <td>5.0</td>\n",
       "      <td>12.890000</td>\n",
       "      <td>0.000000e+00</td>\n",
       "      <td>12.89</td>\n",
       "      <td>12.89</td>\n",
       "      <td>12.89</td>\n",
       "      <td>12.890</td>\n",
       "      <td>12.89</td>\n",
       "    </tr>\n",
       "    <tr>\n",
       "      <th>East Hollywood</th>\n",
       "      <td>18.0</td>\n",
       "      <td>12.890000</td>\n",
       "      <td>5.483568e-15</td>\n",
       "      <td>12.89</td>\n",
       "      <td>12.89</td>\n",
       "      <td>12.89</td>\n",
       "      <td>12.890</td>\n",
       "      <td>12.89</td>\n",
       "    </tr>\n",
       "    <tr>\n",
       "      <th>Elysian Park</th>\n",
       "      <td>2.0</td>\n",
       "      <td>12.890000</td>\n",
       "      <td>0.000000e+00</td>\n",
       "      <td>12.89</td>\n",
       "      <td>12.89</td>\n",
       "      <td>12.89</td>\n",
       "      <td>12.890</td>\n",
       "      <td>12.89</td>\n",
       "    </tr>\n",
       "    <tr>\n",
       "      <th>Elysian Valley</th>\n",
       "      <td>3.0</td>\n",
       "      <td>12.750000</td>\n",
       "      <td>2.424871e-01</td>\n",
       "      <td>12.47</td>\n",
       "      <td>12.68</td>\n",
       "      <td>12.89</td>\n",
       "      <td>12.890</td>\n",
       "      <td>12.89</td>\n",
       "    </tr>\n",
       "    <tr>\n",
       "      <th>Exposition Park</th>\n",
       "      <td>7.0</td>\n",
       "      <td>12.890000</td>\n",
       "      <td>0.000000e+00</td>\n",
       "      <td>12.89</td>\n",
       "      <td>12.89</td>\n",
       "      <td>12.89</td>\n",
       "      <td>12.890</td>\n",
       "      <td>12.89</td>\n",
       "    </tr>\n",
       "    <tr>\n",
       "      <th>Glassell Park</th>\n",
       "      <td>7.0</td>\n",
       "      <td>12.350000</td>\n",
       "      <td>3.174902e-01</td>\n",
       "      <td>12.05</td>\n",
       "      <td>12.05</td>\n",
       "      <td>12.47</td>\n",
       "      <td>12.470</td>\n",
       "      <td>12.89</td>\n",
       "    </tr>\n",
       "    <tr>\n",
       "      <th>Harvard Heights</th>\n",
       "      <td>6.0</td>\n",
       "      <td>12.890000</td>\n",
       "      <td>0.000000e+00</td>\n",
       "      <td>12.89</td>\n",
       "      <td>12.89</td>\n",
       "      <td>12.89</td>\n",
       "      <td>12.890</td>\n",
       "      <td>12.89</td>\n",
       "    </tr>\n",
       "    <tr>\n",
       "      <th>Historic South-Central</th>\n",
       "      <td>12.0</td>\n",
       "      <td>12.890000</td>\n",
       "      <td>0.000000e+00</td>\n",
       "      <td>12.89</td>\n",
       "      <td>12.89</td>\n",
       "      <td>12.89</td>\n",
       "      <td>12.890</td>\n",
       "      <td>12.89</td>\n",
       "    </tr>\n",
       "    <tr>\n",
       "      <th>Hollywood</th>\n",
       "      <td>22.0</td>\n",
       "      <td>12.412727</td>\n",
       "      <td>3.500909e-01</td>\n",
       "      <td>12.05</td>\n",
       "      <td>12.05</td>\n",
       "      <td>12.47</td>\n",
       "      <td>12.785</td>\n",
       "      <td>12.89</td>\n",
       "    </tr>\n",
       "    <tr>\n",
       "      <th>Jefferson Park</th>\n",
       "      <td>6.0</td>\n",
       "      <td>12.890000</td>\n",
       "      <td>0.000000e+00</td>\n",
       "      <td>12.89</td>\n",
       "      <td>12.89</td>\n",
       "      <td>12.89</td>\n",
       "      <td>12.890</td>\n",
       "      <td>12.89</td>\n",
       "    </tr>\n",
       "    <tr>\n",
       "      <th>Koreatown</th>\n",
       "      <td>29.0</td>\n",
       "      <td>12.890000</td>\n",
       "      <td>9.038996e-15</td>\n",
       "      <td>12.89</td>\n",
       "      <td>12.89</td>\n",
       "      <td>12.89</td>\n",
       "      <td>12.890</td>\n",
       "      <td>12.89</td>\n",
       "    </tr>\n",
       "    <tr>\n",
       "      <th>Larchmont</th>\n",
       "      <td>2.0</td>\n",
       "      <td>12.890000</td>\n",
       "      <td>0.000000e+00</td>\n",
       "      <td>12.89</td>\n",
       "      <td>12.89</td>\n",
       "      <td>12.89</td>\n",
       "      <td>12.890</td>\n",
       "      <td>12.89</td>\n",
       "    </tr>\n",
       "    <tr>\n",
       "      <th>Los Feliz</th>\n",
       "      <td>12.0</td>\n",
       "      <td>12.890000</td>\n",
       "      <td>0.000000e+00</td>\n",
       "      <td>12.89</td>\n",
       "      <td>12.89</td>\n",
       "      <td>12.89</td>\n",
       "      <td>12.890</td>\n",
       "      <td>12.89</td>\n",
       "    </tr>\n",
       "    <tr>\n",
       "      <th>Mid-City</th>\n",
       "      <td>14.0</td>\n",
       "      <td>12.200000</td>\n",
       "      <td>2.659960e-01</td>\n",
       "      <td>12.05</td>\n",
       "      <td>12.05</td>\n",
       "      <td>12.05</td>\n",
       "      <td>12.365</td>\n",
       "      <td>12.89</td>\n",
       "    </tr>\n",
       "    <tr>\n",
       "      <th>Mid-Wilshire</th>\n",
       "      <td>11.0</td>\n",
       "      <td>12.317273</td>\n",
       "      <td>3.397967e-01</td>\n",
       "      <td>12.05</td>\n",
       "      <td>12.05</td>\n",
       "      <td>12.05</td>\n",
       "      <td>12.470</td>\n",
       "      <td>12.89</td>\n",
       "    </tr>\n",
       "    <tr>\n",
       "      <th>Montecito Heights</th>\n",
       "      <td>7.0</td>\n",
       "      <td>12.530000</td>\n",
       "      <td>3.778889e-01</td>\n",
       "      <td>12.05</td>\n",
       "      <td>12.26</td>\n",
       "      <td>12.47</td>\n",
       "      <td>12.890</td>\n",
       "      <td>12.89</td>\n",
       "    </tr>\n",
       "    <tr>\n",
       "      <th>Mount Washington</th>\n",
       "      <td>4.0</td>\n",
       "      <td>12.680000</td>\n",
       "      <td>2.424871e-01</td>\n",
       "      <td>12.47</td>\n",
       "      <td>12.47</td>\n",
       "      <td>12.68</td>\n",
       "      <td>12.890</td>\n",
       "      <td>12.89</td>\n",
       "    </tr>\n",
       "    <tr>\n",
       "      <th>Pico-Union</th>\n",
       "      <td>14.0</td>\n",
       "      <td>12.890000</td>\n",
       "      <td>1.843413e-15</td>\n",
       "      <td>12.89</td>\n",
       "      <td>12.89</td>\n",
       "      <td>12.89</td>\n",
       "      <td>12.890</td>\n",
       "      <td>12.89</td>\n",
       "    </tr>\n",
       "    <tr>\n",
       "      <th>Silver Lake</th>\n",
       "      <td>9.0</td>\n",
       "      <td>12.890000</td>\n",
       "      <td>0.000000e+00</td>\n",
       "      <td>12.89</td>\n",
       "      <td>12.89</td>\n",
       "      <td>12.89</td>\n",
       "      <td>12.890</td>\n",
       "      <td>12.89</td>\n",
       "    </tr>\n",
       "    <tr>\n",
       "      <th>South Park</th>\n",
       "      <td>8.0</td>\n",
       "      <td>12.890000</td>\n",
       "      <td>0.000000e+00</td>\n",
       "      <td>12.89</td>\n",
       "      <td>12.89</td>\n",
       "      <td>12.89</td>\n",
       "      <td>12.890</td>\n",
       "      <td>12.89</td>\n",
       "    </tr>\n",
       "    <tr>\n",
       "      <th>University Park</th>\n",
       "      <td>7.0</td>\n",
       "      <td>12.890000</td>\n",
       "      <td>0.000000e+00</td>\n",
       "      <td>12.89</td>\n",
       "      <td>12.89</td>\n",
       "      <td>12.89</td>\n",
       "      <td>12.890</td>\n",
       "      <td>12.89</td>\n",
       "    </tr>\n",
       "    <tr>\n",
       "      <th>Vermont Square</th>\n",
       "      <td>9.0</td>\n",
       "      <td>12.843333</td>\n",
       "      <td>1.400000e-01</td>\n",
       "      <td>12.47</td>\n",
       "      <td>12.89</td>\n",
       "      <td>12.89</td>\n",
       "      <td>12.890</td>\n",
       "      <td>12.89</td>\n",
       "    </tr>\n",
       "    <tr>\n",
       "      <th>Vermont-Slauson</th>\n",
       "      <td>8.0</td>\n",
       "      <td>12.365000</td>\n",
       "      <td>2.969848e-01</td>\n",
       "      <td>12.05</td>\n",
       "      <td>12.05</td>\n",
       "      <td>12.47</td>\n",
       "      <td>12.470</td>\n",
       "      <td>12.89</td>\n",
       "    </tr>\n",
       "    <tr>\n",
       "      <th>Westlake</th>\n",
       "      <td>30.0</td>\n",
       "      <td>12.890000</td>\n",
       "      <td>9.033621e-15</td>\n",
       "      <td>12.89</td>\n",
       "      <td>12.89</td>\n",
       "      <td>12.89</td>\n",
       "      <td>12.890</td>\n",
       "      <td>12.89</td>\n",
       "    </tr>\n",
       "    <tr>\n",
       "      <th>Windsor Square</th>\n",
       "      <td>2.0</td>\n",
       "      <td>12.890000</td>\n",
       "      <td>0.000000e+00</td>\n",
       "      <td>12.89</td>\n",
       "      <td>12.89</td>\n",
       "      <td>12.89</td>\n",
       "      <td>12.890</td>\n",
       "      <td>12.89</td>\n",
       "    </tr>\n",
       "  </tbody>\n",
       "</table>\n",
       "</div>"
      ],
      "text/plain": [
       "                        count       mean           std    min    25%    50%  \\\n",
       "neighborhood                                                                  \n",
       "Adams-Normandie           5.0  12.890000  0.000000e+00  12.89  12.89  12.89   \n",
       "East Hollywood           18.0  12.890000  5.483568e-15  12.89  12.89  12.89   \n",
       "Elysian Park              2.0  12.890000  0.000000e+00  12.89  12.89  12.89   \n",
       "Elysian Valley            3.0  12.750000  2.424871e-01  12.47  12.68  12.89   \n",
       "Exposition Park           7.0  12.890000  0.000000e+00  12.89  12.89  12.89   \n",
       "Glassell Park             7.0  12.350000  3.174902e-01  12.05  12.05  12.47   \n",
       "Harvard Heights           6.0  12.890000  0.000000e+00  12.89  12.89  12.89   \n",
       "Historic South-Central   12.0  12.890000  0.000000e+00  12.89  12.89  12.89   \n",
       "Hollywood                22.0  12.412727  3.500909e-01  12.05  12.05  12.47   \n",
       "Jefferson Park            6.0  12.890000  0.000000e+00  12.89  12.89  12.89   \n",
       "Koreatown                29.0  12.890000  9.038996e-15  12.89  12.89  12.89   \n",
       "Larchmont                 2.0  12.890000  0.000000e+00  12.89  12.89  12.89   \n",
       "Los Feliz                12.0  12.890000  0.000000e+00  12.89  12.89  12.89   \n",
       "Mid-City                 14.0  12.200000  2.659960e-01  12.05  12.05  12.05   \n",
       "Mid-Wilshire             11.0  12.317273  3.397967e-01  12.05  12.05  12.05   \n",
       "Montecito Heights         7.0  12.530000  3.778889e-01  12.05  12.26  12.47   \n",
       "Mount Washington          4.0  12.680000  2.424871e-01  12.47  12.47  12.68   \n",
       "Pico-Union               14.0  12.890000  1.843413e-15  12.89  12.89  12.89   \n",
       "Silver Lake               9.0  12.890000  0.000000e+00  12.89  12.89  12.89   \n",
       "South Park                8.0  12.890000  0.000000e+00  12.89  12.89  12.89   \n",
       "University Park           7.0  12.890000  0.000000e+00  12.89  12.89  12.89   \n",
       "Vermont Square            9.0  12.843333  1.400000e-01  12.47  12.89  12.89   \n",
       "Vermont-Slauson           8.0  12.365000  2.969848e-01  12.05  12.05  12.47   \n",
       "Westlake                 30.0  12.890000  9.033621e-15  12.89  12.89  12.89   \n",
       "Windsor Square            2.0  12.890000  0.000000e+00  12.89  12.89  12.89   \n",
       "\n",
       "                           75%    max  \n",
       "neighborhood                           \n",
       "Adams-Normandie         12.890  12.89  \n",
       "East Hollywood          12.890  12.89  \n",
       "Elysian Park            12.890  12.89  \n",
       "Elysian Valley          12.890  12.89  \n",
       "Exposition Park         12.890  12.89  \n",
       "Glassell Park           12.470  12.89  \n",
       "Harvard Heights         12.890  12.89  \n",
       "Historic South-Central  12.890  12.89  \n",
       "Hollywood               12.785  12.89  \n",
       "Jefferson Park          12.890  12.89  \n",
       "Koreatown               12.890  12.89  \n",
       "Larchmont               12.890  12.89  \n",
       "Los Feliz               12.890  12.89  \n",
       "Mid-City                12.365  12.89  \n",
       "Mid-Wilshire            12.470  12.89  \n",
       "Montecito Heights       12.890  12.89  \n",
       "Mount Washington        12.890  12.89  \n",
       "Pico-Union              12.890  12.89  \n",
       "Silver Lake             12.890  12.89  \n",
       "South Park              12.890  12.89  \n",
       "University Park         12.890  12.89  \n",
       "Vermont Square          12.890  12.89  \n",
       "Vermont-Slauson         12.470  12.89  \n",
       "Westlake                12.890  12.89  \n",
       "Windsor Square          12.890  12.89  "
      ]
     },
     "execution_count": 96,
     "metadata": {},
     "output_type": "execute_result"
    }
   ],
   "source": [
    "#stats from high to low PM by neighborhood\n",
    "air.groupby(\"neighborhood\").pm25.describe().sort_values(by=[\"max\"], ascending=False).head(25)"
   ]
  },
  {
   "cell_type": "code",
   "execution_count": 97,
   "metadata": {},
   "outputs": [
    {
     "data": {
      "text/html": [
       "<div>\n",
       "<style scoped>\n",
       "    .dataframe tbody tr th:only-of-type {\n",
       "        vertical-align: middle;\n",
       "    }\n",
       "\n",
       "    .dataframe tbody tr th {\n",
       "        vertical-align: top;\n",
       "    }\n",
       "\n",
       "    .dataframe thead th {\n",
       "        text-align: right;\n",
       "    }\n",
       "</style>\n",
       "<table border=\"1\" class=\"dataframe\">\n",
       "  <thead>\n",
       "    <tr style=\"text-align: right;\">\n",
       "      <th></th>\n",
       "      <th>count</th>\n",
       "      <th>mean</th>\n",
       "      <th>std</th>\n",
       "      <th>min</th>\n",
       "      <th>25%</th>\n",
       "      <th>50%</th>\n",
       "      <th>75%</th>\n",
       "      <th>max</th>\n",
       "    </tr>\n",
       "    <tr>\n",
       "      <th>neighborhood</th>\n",
       "      <th></th>\n",
       "      <th></th>\n",
       "      <th></th>\n",
       "      <th></th>\n",
       "      <th></th>\n",
       "      <th></th>\n",
       "      <th></th>\n",
       "      <th></th>\n",
       "    </tr>\n",
       "  </thead>\n",
       "  <tbody>\n",
       "    <tr>\n",
       "      <th>Tujunga Canyons</th>\n",
       "      <td>1.0</td>\n",
       "      <td>8.697944</td>\n",
       "      <td>NaN</td>\n",
       "      <td>8.697944</td>\n",
       "      <td>8.697944</td>\n",
       "      <td>8.697944</td>\n",
       "      <td>8.697944</td>\n",
       "      <td>8.697944</td>\n",
       "    </tr>\n",
       "    <tr>\n",
       "      <th>Chatsworth Reservoir</th>\n",
       "      <td>2.0</td>\n",
       "      <td>9.955483</td>\n",
       "      <td>0.000000e+00</td>\n",
       "      <td>9.955483</td>\n",
       "      <td>9.955483</td>\n",
       "      <td>9.955483</td>\n",
       "      <td>9.955483</td>\n",
       "      <td>9.955483</td>\n",
       "    </tr>\n",
       "    <tr>\n",
       "      <th>Woodland Hills</th>\n",
       "      <td>13.0</td>\n",
       "      <td>10.370000</td>\n",
       "      <td>1.848891e-15</td>\n",
       "      <td>10.370000</td>\n",
       "      <td>10.370000</td>\n",
       "      <td>10.370000</td>\n",
       "      <td>10.370000</td>\n",
       "      <td>10.370000</td>\n",
       "    </tr>\n",
       "    <tr>\n",
       "      <th>Tarzana</th>\n",
       "      <td>10.0</td>\n",
       "      <td>10.370000</td>\n",
       "      <td>1.872445e-15</td>\n",
       "      <td>10.370000</td>\n",
       "      <td>10.370000</td>\n",
       "      <td>10.370000</td>\n",
       "      <td>10.370000</td>\n",
       "      <td>10.370000</td>\n",
       "    </tr>\n",
       "    <tr>\n",
       "      <th>Chatsworth</th>\n",
       "      <td>11.0</td>\n",
       "      <td>10.256950</td>\n",
       "      <td>1.936208e-01</td>\n",
       "      <td>9.955483</td>\n",
       "      <td>10.162741</td>\n",
       "      <td>10.370000</td>\n",
       "      <td>10.370000</td>\n",
       "      <td>10.370000</td>\n",
       "    </tr>\n",
       "    <tr>\n",
       "      <th>West Hills</th>\n",
       "      <td>11.0</td>\n",
       "      <td>10.332317</td>\n",
       "      <td>1.249817e-01</td>\n",
       "      <td>9.955483</td>\n",
       "      <td>10.370000</td>\n",
       "      <td>10.370000</td>\n",
       "      <td>10.370000</td>\n",
       "      <td>10.370000</td>\n",
       "    </tr>\n",
       "    <tr>\n",
       "      <th>Canoga Park</th>\n",
       "      <td>13.0</td>\n",
       "      <td>10.370000</td>\n",
       "      <td>1.848891e-15</td>\n",
       "      <td>10.370000</td>\n",
       "      <td>10.370000</td>\n",
       "      <td>10.370000</td>\n",
       "      <td>10.370000</td>\n",
       "      <td>10.370000</td>\n",
       "    </tr>\n",
       "    <tr>\n",
       "      <th>Winnetka</th>\n",
       "      <td>11.0</td>\n",
       "      <td>10.370000</td>\n",
       "      <td>1.863059e-15</td>\n",
       "      <td>10.370000</td>\n",
       "      <td>10.370000</td>\n",
       "      <td>10.370000</td>\n",
       "      <td>10.370000</td>\n",
       "      <td>10.370000</td>\n",
       "    </tr>\n",
       "    <tr>\n",
       "      <th>Lake Balboa</th>\n",
       "      <td>7.0</td>\n",
       "      <td>10.370000</td>\n",
       "      <td>0.000000e+00</td>\n",
       "      <td>10.370000</td>\n",
       "      <td>10.370000</td>\n",
       "      <td>10.370000</td>\n",
       "      <td>10.370000</td>\n",
       "      <td>10.370000</td>\n",
       "    </tr>\n",
       "    <tr>\n",
       "      <th>Porter Ranch</th>\n",
       "      <td>7.0</td>\n",
       "      <td>10.370000</td>\n",
       "      <td>0.000000e+00</td>\n",
       "      <td>10.370000</td>\n",
       "      <td>10.370000</td>\n",
       "      <td>10.370000</td>\n",
       "      <td>10.370000</td>\n",
       "      <td>10.370000</td>\n",
       "    </tr>\n",
       "    <tr>\n",
       "      <th>Northridge</th>\n",
       "      <td>14.0</td>\n",
       "      <td>10.370000</td>\n",
       "      <td>1.843413e-15</td>\n",
       "      <td>10.370000</td>\n",
       "      <td>10.370000</td>\n",
       "      <td>10.370000</td>\n",
       "      <td>10.370000</td>\n",
       "      <td>10.370000</td>\n",
       "    </tr>\n",
       "    <tr>\n",
       "      <th>Reseda</th>\n",
       "      <td>13.0</td>\n",
       "      <td>10.370000</td>\n",
       "      <td>1.848891e-15</td>\n",
       "      <td>10.370000</td>\n",
       "      <td>10.370000</td>\n",
       "      <td>10.370000</td>\n",
       "      <td>10.370000</td>\n",
       "      <td>10.370000</td>\n",
       "    </tr>\n",
       "    <tr>\n",
       "      <th>Sepulveda Basin</th>\n",
       "      <td>1.0</td>\n",
       "      <td>10.790000</td>\n",
       "      <td>NaN</td>\n",
       "      <td>10.790000</td>\n",
       "      <td>10.790000</td>\n",
       "      <td>10.790000</td>\n",
       "      <td>10.790000</td>\n",
       "      <td>10.790000</td>\n",
       "    </tr>\n",
       "    <tr>\n",
       "      <th>San Fernando</th>\n",
       "      <td>1.0</td>\n",
       "      <td>11.210000</td>\n",
       "      <td>NaN</td>\n",
       "      <td>11.210000</td>\n",
       "      <td>11.210000</td>\n",
       "      <td>11.210000</td>\n",
       "      <td>11.210000</td>\n",
       "      <td>11.210000</td>\n",
       "    </tr>\n",
       "    <tr>\n",
       "      <th>Lake View Terrace</th>\n",
       "      <td>3.0</td>\n",
       "      <td>11.210000</td>\n",
       "      <td>0.000000e+00</td>\n",
       "      <td>11.210000</td>\n",
       "      <td>11.210000</td>\n",
       "      <td>11.210000</td>\n",
       "      <td>11.210000</td>\n",
       "      <td>11.210000</td>\n",
       "    </tr>\n",
       "    <tr>\n",
       "      <th>Encino</th>\n",
       "      <td>11.0</td>\n",
       "      <td>10.599091</td>\n",
       "      <td>3.444838e-01</td>\n",
       "      <td>10.370000</td>\n",
       "      <td>10.370000</td>\n",
       "      <td>10.370000</td>\n",
       "      <td>10.790000</td>\n",
       "      <td>11.210000</td>\n",
       "    </tr>\n",
       "    <tr>\n",
       "      <th>San Pedro</th>\n",
       "      <td>21.0</td>\n",
       "      <td>11.210000</td>\n",
       "      <td>3.640448e-15</td>\n",
       "      <td>11.210000</td>\n",
       "      <td>11.210000</td>\n",
       "      <td>11.210000</td>\n",
       "      <td>11.210000</td>\n",
       "      <td>11.210000</td>\n",
       "    </tr>\n",
       "    <tr>\n",
       "      <th>Lopez/Kagel Canyons</th>\n",
       "      <td>1.0</td>\n",
       "      <td>11.210000</td>\n",
       "      <td>NaN</td>\n",
       "      <td>11.210000</td>\n",
       "      <td>11.210000</td>\n",
       "      <td>11.210000</td>\n",
       "      <td>11.210000</td>\n",
       "      <td>11.210000</td>\n",
       "    </tr>\n",
       "    <tr>\n",
       "      <th>Sylmar</th>\n",
       "      <td>18.0</td>\n",
       "      <td>11.140000</td>\n",
       "      <td>1.610626e-01</td>\n",
       "      <td>10.790000</td>\n",
       "      <td>11.210000</td>\n",
       "      <td>11.210000</td>\n",
       "      <td>11.210000</td>\n",
       "      <td>11.210000</td>\n",
       "    </tr>\n",
       "    <tr>\n",
       "      <th>Mission Hills</th>\n",
       "      <td>5.0</td>\n",
       "      <td>11.210000</td>\n",
       "      <td>0.000000e+00</td>\n",
       "      <td>11.210000</td>\n",
       "      <td>11.210000</td>\n",
       "      <td>11.210000</td>\n",
       "      <td>11.210000</td>\n",
       "      <td>11.210000</td>\n",
       "    </tr>\n",
       "    <tr>\n",
       "      <th>North Hills</th>\n",
       "      <td>14.0</td>\n",
       "      <td>11.030000</td>\n",
       "      <td>2.714066e-01</td>\n",
       "      <td>10.370000</td>\n",
       "      <td>10.790000</td>\n",
       "      <td>11.210000</td>\n",
       "      <td>11.210000</td>\n",
       "      <td>11.210000</td>\n",
       "    </tr>\n",
       "    <tr>\n",
       "      <th>Granada Hills</th>\n",
       "      <td>15.0</td>\n",
       "      <td>10.622000</td>\n",
       "      <td>3.094511e-01</td>\n",
       "      <td>10.370000</td>\n",
       "      <td>10.370000</td>\n",
       "      <td>10.370000</td>\n",
       "      <td>10.790000</td>\n",
       "      <td>11.210000</td>\n",
       "    </tr>\n",
       "    <tr>\n",
       "      <th>Pacific Palisades</th>\n",
       "      <td>7.0</td>\n",
       "      <td>11.150000</td>\n",
       "      <td>1.587451e-01</td>\n",
       "      <td>10.790000</td>\n",
       "      <td>11.210000</td>\n",
       "      <td>11.210000</td>\n",
       "      <td>11.210000</td>\n",
       "      <td>11.210000</td>\n",
       "    </tr>\n",
       "    <tr>\n",
       "      <th>Van Nuys</th>\n",
       "      <td>26.0</td>\n",
       "      <td>11.129231</td>\n",
       "      <td>1.688058e-01</td>\n",
       "      <td>10.790000</td>\n",
       "      <td>11.210000</td>\n",
       "      <td>11.210000</td>\n",
       "      <td>11.210000</td>\n",
       "      <td>11.210000</td>\n",
       "    </tr>\n",
       "    <tr>\n",
       "      <th>Panorama City</th>\n",
       "      <td>18.0</td>\n",
       "      <td>11.210000</td>\n",
       "      <td>3.655712e-15</td>\n",
       "      <td>11.210000</td>\n",
       "      <td>11.210000</td>\n",
       "      <td>11.210000</td>\n",
       "      <td>11.210000</td>\n",
       "      <td>11.210000</td>\n",
       "    </tr>\n",
       "  </tbody>\n",
       "</table>\n",
       "</div>"
      ],
      "text/plain": [
       "                      count       mean           std        min        25%  \\\n",
       "neighborhood                                                                 \n",
       "Tujunga Canyons         1.0   8.697944           NaN   8.697944   8.697944   \n",
       "Chatsworth Reservoir    2.0   9.955483  0.000000e+00   9.955483   9.955483   \n",
       "Woodland Hills         13.0  10.370000  1.848891e-15  10.370000  10.370000   \n",
       "Tarzana                10.0  10.370000  1.872445e-15  10.370000  10.370000   \n",
       "Chatsworth             11.0  10.256950  1.936208e-01   9.955483  10.162741   \n",
       "West Hills             11.0  10.332317  1.249817e-01   9.955483  10.370000   \n",
       "Canoga Park            13.0  10.370000  1.848891e-15  10.370000  10.370000   \n",
       "Winnetka               11.0  10.370000  1.863059e-15  10.370000  10.370000   \n",
       "Lake Balboa             7.0  10.370000  0.000000e+00  10.370000  10.370000   \n",
       "Porter Ranch            7.0  10.370000  0.000000e+00  10.370000  10.370000   \n",
       "Northridge             14.0  10.370000  1.843413e-15  10.370000  10.370000   \n",
       "Reseda                 13.0  10.370000  1.848891e-15  10.370000  10.370000   \n",
       "Sepulveda Basin         1.0  10.790000           NaN  10.790000  10.790000   \n",
       "San Fernando            1.0  11.210000           NaN  11.210000  11.210000   \n",
       "Lake View Terrace       3.0  11.210000  0.000000e+00  11.210000  11.210000   \n",
       "Encino                 11.0  10.599091  3.444838e-01  10.370000  10.370000   \n",
       "San Pedro              21.0  11.210000  3.640448e-15  11.210000  11.210000   \n",
       "Lopez/Kagel Canyons     1.0  11.210000           NaN  11.210000  11.210000   \n",
       "Sylmar                 18.0  11.140000  1.610626e-01  10.790000  11.210000   \n",
       "Mission Hills           5.0  11.210000  0.000000e+00  11.210000  11.210000   \n",
       "North Hills            14.0  11.030000  2.714066e-01  10.370000  10.790000   \n",
       "Granada Hills          15.0  10.622000  3.094511e-01  10.370000  10.370000   \n",
       "Pacific Palisades       7.0  11.150000  1.587451e-01  10.790000  11.210000   \n",
       "Van Nuys               26.0  11.129231  1.688058e-01  10.790000  11.210000   \n",
       "Panorama City          18.0  11.210000  3.655712e-15  11.210000  11.210000   \n",
       "\n",
       "                            50%        75%        max  \n",
       "neighborhood                                           \n",
       "Tujunga Canyons        8.697944   8.697944   8.697944  \n",
       "Chatsworth Reservoir   9.955483   9.955483   9.955483  \n",
       "Woodland Hills        10.370000  10.370000  10.370000  \n",
       "Tarzana               10.370000  10.370000  10.370000  \n",
       "Chatsworth            10.370000  10.370000  10.370000  \n",
       "West Hills            10.370000  10.370000  10.370000  \n",
       "Canoga Park           10.370000  10.370000  10.370000  \n",
       "Winnetka              10.370000  10.370000  10.370000  \n",
       "Lake Balboa           10.370000  10.370000  10.370000  \n",
       "Porter Ranch          10.370000  10.370000  10.370000  \n",
       "Northridge            10.370000  10.370000  10.370000  \n",
       "Reseda                10.370000  10.370000  10.370000  \n",
       "Sepulveda Basin       10.790000  10.790000  10.790000  \n",
       "San Fernando          11.210000  11.210000  11.210000  \n",
       "Lake View Terrace     11.210000  11.210000  11.210000  \n",
       "Encino                10.370000  10.790000  11.210000  \n",
       "San Pedro             11.210000  11.210000  11.210000  \n",
       "Lopez/Kagel Canyons   11.210000  11.210000  11.210000  \n",
       "Sylmar                11.210000  11.210000  11.210000  \n",
       "Mission Hills         11.210000  11.210000  11.210000  \n",
       "North Hills           11.210000  11.210000  11.210000  \n",
       "Granada Hills         10.370000  10.790000  11.210000  \n",
       "Pacific Palisades     11.210000  11.210000  11.210000  \n",
       "Van Nuys              11.210000  11.210000  11.210000  \n",
       "Panorama City         11.210000  11.210000  11.210000  "
      ]
     },
     "execution_count": 97,
     "metadata": {},
     "output_type": "execute_result"
    }
   ],
   "source": [
    "#stats from low to high PM by neighborhood\n",
    "air.groupby(\"neighborhood\").pm25.describe().sort_values(by=[\"max\"], ascending=True).head(25)"
   ]
  }
 ],
 "metadata": {
  "kernelspec": {
   "display_name": "Python 3",
   "language": "python",
   "name": "python3"
  },
  "language_info": {
   "codemirror_mode": {
    "name": "ipython",
    "version": 3
   },
   "file_extension": ".py",
   "mimetype": "text/x-python",
   "name": "python",
   "nbconvert_exporter": "python",
   "pygments_lexer": "ipython3",
   "version": "3.8.5"
  },
  "toc": {
   "base_numbering": 1,
   "nav_menu": {},
   "number_sections": true,
   "sideBar": true,
   "skip_h1_title": false,
   "title_cell": "Table of Contents",
   "title_sidebar": "Contents",
   "toc_cell": false,
   "toc_position": {},
   "toc_section_display": true,
   "toc_window_display": false
  },
  "widgets": {
   "application/vnd.jupyter.widget-state+json": {
    "state": {},
    "version_major": 2,
    "version_minor": 0
   }
  }
 },
 "nbformat": 4,
 "nbformat_minor": 4
}
